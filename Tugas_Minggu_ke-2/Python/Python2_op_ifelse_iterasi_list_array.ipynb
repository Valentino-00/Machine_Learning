{
  "cells": [
    {
      "cell_type": "markdown",
      "metadata": {
        "id": "view-in-github",
        "colab_type": "text"
      },
      "source": [
        "<a href=\"https://colab.research.google.com/github/Valentino-00/Tugas-Machine_Learning/blob/master/Python2_op_ifelse_iterasi_list_array.ipynb\" target=\"_parent\"><img src=\"https://colab.research.google.com/assets/colab-badge.svg\" alt=\"Open In Colab\"/></a>"
      ]
    },
    {
      "cell_type": "markdown",
      "metadata": {
        "id": "zUp1LnS0giVk"
      },
      "source": [
        "# Python Basic 2\n",
        "Boolean values, conditional execution, loops, lists and list processing, logical and bitwise operationsExternal tool\n",
        "\n",
        "Referensi Tambahan:\n",
        "- https://docs.python.org/3.8/\n",
        "- https://docs.python.org/id/3.8/tutorial/\n",
        "\n",
        "\n",
        "## Materi\n",
        "\n",
        "- Operator relasional;\n",
        "- Operator aritmatika;\n",
        "- Struktur pemilihan if-elif-else;\n",
        "- Struktur perulangan while dan for;\n",
        "- Statement loncat;\n",
        "- Operasi logika dan bitwise;\n",
        "- Lists dan Array."
      ]
    },
    {
      "cell_type": "markdown",
      "metadata": {
        "id": "5pDreeQbgiVl"
      },
      "source": [
        "#### Mutable dan Immutable\n",
        "Mutable : List, Dictionary\n",
        "\n",
        "Immutable : String, Bilangan dan Tuple"
      ]
    },
    {
      "cell_type": "code",
      "execution_count": 1,
      "metadata": {
        "colab": {
          "base_uri": "https://localhost:8080/"
        },
        "id": "_lIohW5DgiVm",
        "outputId": "47c75dfd-96c4-44b6-d633-15a6a774bbd8"
      },
      "outputs": [
        {
          "output_type": "stream",
          "name": "stdout",
          "text": [
            "20\n",
            "10751464\n"
          ]
        }
      ],
      "source": [
        "a=20\n",
        "print(a)\n",
        "print(id(a))"
      ]
    },
    {
      "cell_type": "code",
      "execution_count": 2,
      "metadata": {
        "colab": {
          "base_uri": "https://localhost:8080/"
        },
        "id": "iWA5_MvOgiVm",
        "outputId": "52935ff0-40d3-40ed-8a6d-725fa83df92d"
      },
      "outputs": [
        {
          "output_type": "stream",
          "name": "stdout",
          "text": [
            "30\n",
            "10751784\n"
          ]
        }
      ],
      "source": [
        "a=30\n",
        "print(a)\n",
        "print(id(a))"
      ]
    },
    {
      "cell_type": "code",
      "execution_count": 3,
      "metadata": {
        "colab": {
          "base_uri": "https://localhost:8080/"
        },
        "id": "KK4cNl0zgiVm",
        "outputId": "00e875ec-2853-4f20-8e26-7690e0f103ad"
      },
      "outputs": [
        {
          "output_type": "stream",
          "name": "stdout",
          "text": [
            "[1, 2, 3, 4]\n",
            "<class 'list'>\n",
            "135365919372352\n"
          ]
        }
      ],
      "source": [
        "a=[1,2,3,4]\n",
        "print(a)\n",
        "print(type(a))\n",
        "print(id(a))"
      ]
    },
    {
      "cell_type": "code",
      "execution_count": 4,
      "metadata": {
        "colab": {
          "base_uri": "https://localhost:8080/"
        },
        "id": "UVI70Gg8giVm",
        "outputId": "2be58293-79a5-43ad-bbfc-d30747ae28c4"
      },
      "outputs": [
        {
          "output_type": "stream",
          "name": "stdout",
          "text": [
            "[0, 2, 3, 4]\n",
            "135365919372352\n"
          ]
        }
      ],
      "source": [
        "a[0]=0\n",
        "print(a)\n",
        "print(id(a))"
      ]
    },
    {
      "cell_type": "markdown",
      "metadata": {
        "id": "5feTZ6GLgiVm"
      },
      "source": [
        "## Operator Relasional\n",
        "Operator relasional adalah operator yang digunakan untuk membandingkan dua buah nilai. Hasil yang akan diperoleh dari operasi perbandingan ini adalah logika (bertipe bool), yaitu True (benar) atau False (salah).\n",
        "\n",
        "![operator%20relasional.png](attachment:operator%20relasional.png)\n",
        "\n",
        "### Prioritas Operator\n",
        "| Prioritas| Operator |        |\n",
        "|----------|----------|--------|\n",
        "| 1        | +, -     | unary  |\n",
        "| 2        | **       |        |\n",
        "| 3        | *,/,//,% |        |\n",
        "| 4        | +, -     | binary |"
      ]
    },
    {
      "cell_type": "markdown",
      "metadata": {
        "id": "sr8nED4OgiVn"
      },
      "source": [
        "## Latihan: Questions and answers\n",
        "\n",
        "Gunakan operator relasional untuk mendeteksi nilai integer < 100 atau >= 100\n",
        "\n",
        "#### Test Data\n",
        "\n",
        "Sample input: 55\n",
        "\n",
        "`Expected output: False`\n",
        "\n",
        "Sample input: 99\n",
        "\n",
        "`Expected output: False`\n",
        "\n",
        "Sample input: 100\n",
        "\n",
        "`Expected output: True`\n",
        "\n",
        "Sample input: 101\n",
        "\n",
        "`Expected output: True`\n",
        "\n",
        "Sample input: -5\n",
        "\n",
        "`Expected output: False`\n",
        "\n",
        "Sample input: +123\n",
        "\n",
        "`Expected output: True`"
      ]
    },
    {
      "cell_type": "code",
      "execution_count": 5,
      "metadata": {
        "colab": {
          "base_uri": "https://localhost:8080/"
        },
        "id": "MN6iIC_LgiVn",
        "outputId": "b8e25ebe-9868-4b65-ddca-482713a9337b"
      },
      "outputs": [
        {
          "output_type": "stream",
          "name": "stdout",
          "text": [
            "Sample input: 115\n",
            "Expected output:  True\n"
          ]
        }
      ],
      "source": [
        "\n",
        "a=int(input(\"Sample input: \"))\n",
        "print(\"Expected output: \", a>=100)"
      ]
    },
    {
      "cell_type": "markdown",
      "metadata": {
        "id": "iC8QHJWEgiVn"
      },
      "source": [
        "# Operator Aritmatika\n",
        "\n",
        "Operator aritmatika adalah operator yang digunakan untuk melakukan perhitungan terhadap data numerik. Berikut merupakan operator aritmatika yang digunakan dalam python :\n",
        "\n",
        "![operator%20aritmatika.JPG](attachment:operator%20aritmatika.JPG)"
      ]
    },
    {
      "cell_type": "markdown",
      "metadata": {
        "id": "tzbfxcTBgiVn"
      },
      "source": [
        "</b> Prioritas operator </b>\n",
        "Setiap operator aritmatika memiliki prioritas yang berbeda. Sebagai contoh :\n",
        "\n",
        "</b> 3+5*7 </b>\n",
        "Seperti yang diketahui, operator perkalian (*) memiliki prioritas yang lebih tinggi dibandingkan dengan operator penjumlahan (+) sehingga operasi dapat dituliskan sebagai berikut (3+(5*7)).\n",
        "\n",
        "Untuk lebih jelasnya, tabel berikut memperlihatkan urutan prioritas dari operator aritmatika :\n",
        "![prioritas.JPG](attachment:prioritas.JPG)"
      ]
    },
    {
      "cell_type": "markdown",
      "metadata": {
        "id": "8LyGsI_ugiVn"
      },
      "source": [
        "Berikut merupakan mindmap dari operasi aritmatika :\n",
        "\n",
        "![mindmad%20aritmatika.JPG](attachment:mindmad%20aritmatika.JPG)\n",
        "\n",
        "Perhatikan contoh dibawah :\n",
        "\n",
        "x = 5 + 2 * 3 / (2 - 3) ** 2\n",
        "berapa nilai x?\n"
      ]
    },
    {
      "cell_type": "code",
      "execution_count": 6,
      "metadata": {
        "colab": {
          "base_uri": "https://localhost:8080/"
        },
        "id": "5XTDG0DxgiVo",
        "outputId": "f3e7bd0d-0290-42c3-d184-c0ce0b910385"
      },
      "outputs": [
        {
          "output_type": "stream",
          "name": "stdout",
          "text": [
            "11.0\n"
          ]
        }
      ],
      "source": [
        "x = 5 + 2 * 3 / (2 - 3) ** 2\n",
        "print(x)"
      ]
    },
    {
      "cell_type": "markdown",
      "metadata": {
        "id": "S3AojSUqgiVo"
      },
      "source": [
        "## Struktur Pemilihan\n",
        "\n",
        "Berbeda dengan bahasa pemrograman lainnya, Python hanya memiliki satu statement untuk melakukan proses pemilihan, yaitu dengan menggunakan if. Untuk mempermudah pembahasan tentang statement if, pembahasan akan dibagi menjadi tiga kelompok :\n",
        "\n",
        " - Statement if untuk satu kasus\n",
        " - Statement if untuk dua kasus\n",
        " - Statement if untuk tiga kasus"
      ]
    },
    {
      "cell_type": "markdown",
      "metadata": {
        "id": "QyXasSwDgiVo"
      },
      "source": [
        "### 1. Statement if untuk satu kasus\n",
        "\n",
        "Bentuk umum penggunaan perintah if untuk satu kasus dalam Python adalah :\n",
        "\n",
        "```python\n",
        "if kondisi:\n",
        "    statement1\n",
        "    statement2\n",
        "    ...\n",
        "    \n",
        "```\n",
        "Pada bentuk diatas, statement1, statement2 dan seterusnya hanya akan dieksekusi jika kondisi yang didefinisikan dalam perintah If terpenuhi (bernilai True). Jika kondisi bernilai False, statement tersebut akan diabaikan oleh program.\n",
        "\n",
        "Perhatikan contoh berikut :"
      ]
    },
    {
      "cell_type": "code",
      "execution_count": 7,
      "metadata": {
        "id": "0vVAsH-tgiVo"
      },
      "outputs": [],
      "source": [
        "a = 5\n",
        "b = 6\n",
        "\n",
        "if a==b:\n",
        "    print(\"oke\")\n",
        "    print(\"berhasil\")\n",
        "    print(\"Gagal\")"
      ]
    },
    {
      "cell_type": "markdown",
      "metadata": {
        "id": "X6WNfDEigiVo"
      },
      "source": [
        "### 2. Statement if untuk dua kasus\n",
        "\n",
        "Untuk pemilihan yang mengandung dua kasus, bentuk umum yang digunakan adalah :\n",
        "\n",
        "```python\n",
        "if kondisi :\n",
        "    statement1\n",
        "    statement2\n",
        "    ...\n",
        "else\n",
        "    statement_alternatif1\n",
        "    statement_alternatif2\n",
        "    ...\n",
        "```\n",
        "\n",
        "Pada bentuk ini, jika kondisi bernilai True makan statement selanjutnya yang akan dieksekusi oleh program adalah statement1, stetement 2 dan seterusnya. Tapi jika kondisi bernilai False, maka program akan mengeksekusi statement yang berada pada bagian else, yaitu statement_alternatif1, statement_alternatif2 dan seterusnya."
      ]
    },
    {
      "cell_type": "code",
      "execution_count": 8,
      "metadata": {
        "colab": {
          "base_uri": "https://localhost:8080/"
        },
        "id": "lUyzIvb1giVo",
        "outputId": "c93e6ba1-b277-44a4-8663-2951525042a8"
      },
      "outputs": [
        {
          "output_type": "stream",
          "name": "stdout",
          "text": [
            "Gagal\n"
          ]
        }
      ],
      "source": [
        "a = 5\n",
        "b = 6\n",
        "\n",
        "if a==b:\n",
        "    print(\"oke\")\n",
        "    print(\"berhasil\")\n",
        "else:\n",
        "    print(\"Gagal\")"
      ]
    },
    {
      "cell_type": "markdown",
      "metadata": {
        "id": "MC8Tqy2LgiVo"
      },
      "source": [
        "#### Latihan 1\n",
        "Memasukan bilangan bulat dan mendeteksi bilangan tersebut genap / ganjil."
      ]
    },
    {
      "cell_type": "code",
      "execution_count": 9,
      "metadata": {
        "colab": {
          "base_uri": "https://localhost:8080/"
        },
        "id": "gxNsiImKgiVp",
        "outputId": "04f476ef-e423-409f-eaee-63594dfa7ad9"
      },
      "outputs": [
        {
          "output_type": "stream",
          "name": "stdout",
          "text": [
            "Masukan bilangan bulat: 5\n",
            "ganjil\n"
          ]
        }
      ],
      "source": [
        "bil = int(input(\"Masukan bilangan bulat: \"))\n",
        "\n",
        "if(bil%2 == 0):\n",
        "    print(\"genap\")\n",
        "else:\n",
        "    print(\"ganjil\")"
      ]
    },
    {
      "cell_type": "markdown",
      "metadata": {
        "id": "NKpgBCnEgiVp"
      },
      "source": [
        "### 3. Statement if untuk Tiga kasus atau lebih\n",
        "\n",
        "Struktur pemilihan jenis ini merupakan bentuk yang paling kompleks jika dibandingkan dengan kedua jenis yang sudah di bahas diatas. Dalam struktur ini, ada beberapa kondisi yang harus diperiksa oleh program. Bentuk umum penggunaan perintah if untuk tiga kasus atau lebih adalah :\n",
        "\n",
        "```python\n",
        "if kondisi1:\n",
        "    statement1a\n",
        "    statement1b\n",
        "    ...\n",
        "elif kondisi2:\n",
        "    statement2a\n",
        "    statement2b\n",
        "    ...\n",
        "else:\n",
        "    statement_alternatif1\n",
        "    statement_alternatif2\n",
        "    ...\n",
        "```\n",
        "Perhatikan contoh dibawah ini :"
      ]
    },
    {
      "cell_type": "markdown",
      "metadata": {
        "id": "EMLnL8nWgiVp"
      },
      "source": [
        "#### Latihan 2\n",
        "\n",
        "![kuadran.jpg](attachment:kuadran.jpg)\n",
        "\n",
        "Perhatikan gambar diatas. Penetuan kuadran dari suatu titik dilakukan dengan cara :\n",
        "\n",
        " - Jika x>0 dan y>0 maka titik akan berada pada Kuadran I\n",
        " - Jika x<0 dan y>0 maka titik akan berapa pada Kuadran II\n",
        " - Jika x<0 dan y<0 maka titik akan berada pada Kuadran III\n",
        " - JIka x>0 dan y<0 maka titik akan berada pada Kuadran IV\n",
        " - Jika keepat kondisi ini tidak dapat dipenuhi, maka titik tidak termasuk pada kuadran manapun\n",
        "\n",
        "Tuliskan kondisi tersebut dalam bahasa Python."
      ]
    },
    {
      "cell_type": "code",
      "execution_count": 10,
      "metadata": {
        "colab": {
          "base_uri": "https://localhost:8080/"
        },
        "id": "MehFwAyGgiVp",
        "outputId": "e731fbac-5af9-4361-af07-ae3ef7b0f707"
      },
      "outputs": [
        {
          "output_type": "stream",
          "name": "stdout",
          "text": [
            "Masukan nilai koordinat\n",
            "Nilai x: 9\n",
            "Nilai y: 4\n",
            "Koordinat (9,4) berada pada Kuadran I\n"
          ]
        }
      ],
      "source": [
        "print(\"Masukan nilai koordinat\")\n",
        "x = int(input(\"Nilai x: \"))\n",
        "y = int(input(\"Nilai y: \"))\n",
        "\n",
        "if x>0 and y>0:\n",
        "    print(\"Koordinat (\"+ str(x) + \",\"+ str(y) +\") berada pada Kuadran I\" )\n",
        "elif x<0 and y>0:\n",
        "    print(\"Koordinat (\"+ str(x) + \",\"+ str(y) +\") berada pada Kuadran II\" )\n",
        "elif x<0 and y<0:\n",
        "    print(\"Koordinat (\"+ str(x) + \",\"+ str(y) +\") berada pada Kuadran III\" )\n",
        "elif x>0 and y<0:\n",
        "    print(\"Koordinat (\"+ str(x) + \",\"+ str(y) +\") berada pada Kuadran IV\" )\n",
        "else:\n",
        "    pass"
      ]
    },
    {
      "cell_type": "markdown",
      "metadata": {
        "id": "VBbxJioVgiVp"
      },
      "source": [
        "#### Latihan 3\n",
        "Mencari bilangan terbesar, dari 3 inputan (a, b dan c)"
      ]
    },
    {
      "cell_type": "code",
      "execution_count": 11,
      "metadata": {
        "colab": {
          "base_uri": "https://localhost:8080/"
        },
        "id": "OEBr2JwhgiVp",
        "outputId": "52ecfc57-72f4-4c05-acc1-55111e002c09"
      },
      "outputs": [
        {
          "output_type": "stream",
          "name": "stdout",
          "text": [
            "First Number : 5\n",
            "Second Number : 2\n",
            "Third Number : 6\n",
            "The largest number is:  6\n"
          ]
        }
      ],
      "source": [
        "num1 = int(input(\"First Number : \"))\n",
        "num2 = int(input(\"Second Number : \"))\n",
        "num3 = int(input(\"Third Number : \"))\n",
        "\n",
        "#set number1 sebagai yang terbesar\n",
        "largestNum = num1\n",
        "\n",
        "#deteksi apakah num2 > num1\n",
        "if num2 > largestNum:\n",
        "    largestNum = num2\n",
        "\n",
        "#deteksi apakah num3 > num2\n",
        "if num3 > largestNum:\n",
        "    largestNum = num3\n",
        "\n",
        "print(\"The largest number is: \", largestNum)"
      ]
    },
    {
      "cell_type": "markdown",
      "metadata": {
        "id": "Ap7EbisbgiVp"
      },
      "source": [
        "## Latihan\n",
        "Spathiphyllum, atau yang sering disebut dengan 'peace lily' atau tanaman 'white sail merupakan tanaman dalam rumah yang sangat populer yang dapat menjadi filter guna menyaring udara dari racun. Beberapa racun yang dapat di filter adalah benzena, fomaldehyde, dan amonia.\n",
        "\n",
        "Bayangkan bahwa program komputer anda sangat menyukai tanaman. Ketika komputer menerima masukan (input) pada form \"Spathiphyllum\", maka komputer akan merespon dengan \"Spathiphyllum is the best plant ever!\".\n",
        "\n",
        "Tulislah sebuah program dengan Python untuk beberapa kondisi berikut, input adalah sebuah string :\n",
        "\n",
        "- respon komputer :  `\"Yes - Spathiphyllum is the best plant ever!\"` ketika input berupa `\"Spathiphyllum\"` (upper-case)\n",
        "- respon komputer :  `\"No, I want a big Spathiphyllum!\"` ketika input berupa `\"spathiphyllum\"` (lower-case)\n",
        "- respon komputer :  `\"Spathiphyllum! Not [input]!\"` ketika input berupa \"input\"."
      ]
    },
    {
      "cell_type": "code",
      "execution_count": 12,
      "metadata": {
        "colab": {
          "base_uri": "https://localhost:8080/"
        },
        "id": "oaFUtJV-giVp",
        "outputId": "0532db6e-2283-4428-e2ed-293e66c645a0"
      },
      "outputs": [
        {
          "output_type": "stream",
          "name": "stdout",
          "text": [
            "Please input a best plant = Mawar\n",
            "Spathiphyllum! Not Mawar!\n"
          ]
        }
      ],
      "source": [
        "plant = input(\"Please input a best plant = \")\n",
        "\n",
        "if plant == \"Spathiphyllum\":\n",
        "    print(\"Yes - Spathiphyllum is the best plant ever!\")\n",
        "elif plant == \"spathiphyllum\":\n",
        "    print(\"No, I want a big Spathiphyllum!\")\n",
        "else:\n",
        "    print(\"Spathiphyllum! Not \"+ plant +\"!\")"
      ]
    },
    {
      "cell_type": "markdown",
      "metadata": {
        "id": "HeG27C-dgiVp"
      },
      "source": [
        "## Latihan\n",
        "\n",
        "\n",
        "Pada suatu masa terdapat sebuah daratan - daratan dengan susu dan madu, yang dihuni oleh masyarakat yang bahagia dan sejahtera. Masyarakat tersebut membayar pajak, sehingga kebahagiaan mereka memiliki batas. Pajak yang paling penting adalah Personal Income Tax atau disebut PIT yang mana harus dibayarkan tiap tahun, dan dievaluasi dengan peraturan sebagai berikut :  \n",
        "\n",
        "- Jika penghasilan tidak lebih besar daripada 85,528 thaler, maka pajak adalah sebesar 18% dari pemasukan dikurangi 556 thaler dan 2 sen (disebut juga tax relief)\n",
        "- Jika penghasilan lebih dari nilai tersebut, maka pajak adalah sebesar 14,839 thaler and 2 cents, ditambah 32% dari selisih penghasilan dengan 85,528 thalers.\n",
        "\n",
        "Tugas anda adalah membuat <b>tax calculator</b>.\n",
        "\n",
        "- Harus menerima satu masukan : penghasilan\n",
        "- Berikutnya, print pajak yang telah dihitung, nilai dibulatkan penuh ke thaler (tanpa sen). Fungsi round() akan membantu anda untuk membulatkan nilai.\n",
        "\n",
        "Catatan : Negara yang bahagia ini tidak pernah mengembalikan uang tersebut ke warganya. Jika perhitungan pajak kurang dari nol, itu berarti warga tidak dikenakan pajak sama sekali (pajak = 0).\n",
        "    \n",
        "Perhatikan syntax dibawah ini, hanya membaca satu input dan output sebagai hasilnya. Lengkapi syntax tersebut dengan sebuah perhitungan yang cerdas.\n",
        "\n",
        "```python\n",
        "income = float(input(\"Enter the annual income: \"))\n",
        "\n",
        "#\n",
        "# Put your code here.\n",
        "#\n",
        "\n",
        "tax = round(tax, 0)\n",
        "print(\"The tax is:\", tax, \"thalers\")\n",
        "```\n",
        "\n",
        "Test your code using the data we've provided.\n",
        "\n",
        "```python\n",
        "Sample input: 10000\n",
        "\n",
        "Expected output: The tax is: 1244.0 thalers\n",
        "        \n",
        "Sample input: 100000\n",
        "\n",
        "Expected output: The tax is: 19470.0 thalers\n",
        "        \n",
        "Sample input: 1000\n",
        "\n",
        "Expected output: The tax is: 0.0 thalers\n",
        "\n",
        "Sample input: -100\n",
        "\n",
        "Expected output: The tax is: 0.0 thalers"
      ]
    },
    {
      "cell_type": "code",
      "execution_count": 13,
      "metadata": {
        "colab": {
          "base_uri": "https://localhost:8080/"
        },
        "id": "lZZzQ-OGgiVp",
        "outputId": "dbf2f069-522d-44f2-93f9-bb93ecf7edbb"
      },
      "outputs": [
        {
          "output_type": "stream",
          "name": "stdout",
          "text": [
            "Enter the annual income: 6000\n",
            "The tax is: 524.0 thalers\n"
          ]
        }
      ],
      "source": [
        "income = float(input(\"Enter the annual income: \"))\n",
        "tax = 0\n",
        "\n",
        "if income<85528:\n",
        "    tax = 0.18 * income - 556.2\n",
        "else:\n",
        "    tax = 14839 + 0.2 + 0.32 * (income - 85528)\n",
        "\n",
        "tax = round(tax, 0)\n",
        "\n",
        "if tax<0:\n",
        "    tax = 0\n",
        "\n",
        "print(\"The tax is:\", tax, \"thalers\")"
      ]
    },
    {
      "cell_type": "markdown",
      "metadata": {
        "id": "7_InsOoBgiVq"
      },
      "source": [
        "## Latihan\n",
        "\n",
        "As you surely know, due to some astronomical reasons, years may be leap or common. The former are 366 days long, while the latter are 365 days long.\n",
        "\n",
        "Since the introduction of the Gregorian calendar (in 1582), the following rule is used to determine the kind of year:\n",
        "\n",
        "- if the year number isn't divisible by four, it's a common year;\n",
        "- otherwise, if the year number isn't divisible by 100, it's a leap year;\n",
        "- otherwise, if the year number isn't divisible by 400, it's a common year;\n",
        "- otherwise, it's a leap year.\n",
        "\n",
        "Look at the code in the editor - it only reads a year number, and needs to be completed with the instructions implementing the test we've just described.\n",
        "\n",
        "``` python\n",
        "year = int(input(\"Enter a year: \"))\n",
        "\n",
        "#\n",
        "# Put your code here.\n",
        "#\n",
        "\n",
        "```\n",
        "\n",
        "The code should output one of two possible messages, which are Leap year or Common year, depending on the value entered.\n",
        "\n",
        "It would be good to verify if the entered year falls into the Gregorian era, and output a warning otherwise: Not within the Gregorian calendar period. Tip: use the != and % operators.\n",
        "\n",
        "Test your code using the data we've provided.\n",
        "\n",
        "Sample input: `2000`\n",
        "\n",
        "Expected output: `Leap year`\n",
        "\n",
        "Sample input: `2015`\n",
        "\n",
        "Expected output: `Common year`\n",
        "\n",
        "Sample input: `1999`\n",
        "\n",
        "Expected output: `Common year`\n",
        "\n",
        "Sample input: `1996`\n",
        "\n",
        "Expected output: `Leap year`\n",
        "\n",
        "Sample input: `1580`\n",
        "\n",
        "Expected output: `Not within the Gregorian calendar period`"
      ]
    },
    {
      "cell_type": "code",
      "execution_count": 14,
      "metadata": {
        "colab": {
          "base_uri": "https://localhost:8080/"
        },
        "id": "K-ijgRhegiVq",
        "outputId": "74870de3-49bf-42fd-be3e-cb2aee43ec01"
      },
      "outputs": [
        {
          "output_type": "stream",
          "name": "stdout",
          "text": [
            "Enter a year: 1738\n",
            "common year\n"
          ]
        }
      ],
      "source": [
        "year = int(input(\"Enter a year: \"))\n",
        "\n",
        "if year < 1582:\n",
        "    print(\"Not within the Gregorian calender period\")\n",
        "else :\n",
        "    if year % 4 !=0 :\n",
        "        print(\"common year\")\n",
        "    elif year % 100 !=0:\n",
        "        print (\"leap year\")\n",
        "    elif year % 400 !=0:\n",
        "        print(\"common year\")\n",
        "    else :\n",
        "        print(\"leap year\")"
      ]
    },
    {
      "cell_type": "markdown",
      "metadata": {
        "id": "zQZfiEvOgiVq"
      },
      "source": [
        "#### Latihan-latihan"
      ]
    },
    {
      "cell_type": "markdown",
      "metadata": {
        "id": "jLYybX8DgiVq"
      },
      "source": [
        "Apakah luaran dari syntax berikut :"
      ]
    },
    {
      "cell_type": "code",
      "execution_count": 15,
      "metadata": {
        "colab": {
          "base_uri": "https://localhost:8080/"
        },
        "id": "cQ2QSFKbgiVq",
        "outputId": "05939513-d81c-4434-ec5b-f400e5109b3b"
      },
      "outputs": [
        {
          "output_type": "stream",
          "name": "stdout",
          "text": [
            "False\n",
            "True\n"
          ]
        }
      ],
      "source": [
        "x = 5\n",
        "y = 10\n",
        "z = 8\n",
        "\n",
        "print(x > y)\n",
        "print(y > z)"
      ]
    },
    {
      "cell_type": "code",
      "execution_count": 16,
      "metadata": {
        "colab": {
          "base_uri": "https://localhost:8080/"
        },
        "id": "Uz9Ww04xgiVq",
        "outputId": "c7c0ded1-a1d1-4bf1-a372-21f2013d6689"
      },
      "outputs": [
        {
          "output_type": "stream",
          "name": "stdout",
          "text": [
            "False\n",
            "True\n"
          ]
        }
      ],
      "source": [
        "x, y, z = 5, 10, 8\n",
        "\n",
        "print(x > z)\n",
        "print((y - 5) == x)"
      ]
    },
    {
      "cell_type": "code",
      "execution_count": 17,
      "metadata": {
        "colab": {
          "base_uri": "https://localhost:8080/"
        },
        "id": "aBOMZz06giVq",
        "outputId": "0d77616d-2b35-411c-de62-f35c10c6d852"
      },
      "outputs": [
        {
          "output_type": "stream",
          "name": "stdout",
          "text": [
            "True\n",
            "False\n"
          ]
        }
      ],
      "source": [
        "x, y, z = 5, 10, 8\n",
        "x, y, z = z, y, x\n",
        "\n",
        "print(x > z)\n",
        "print((y - 5) == x)"
      ]
    },
    {
      "cell_type": "code",
      "execution_count": 18,
      "metadata": {
        "colab": {
          "base_uri": "https://localhost:8080/"
        },
        "id": "kj5RNEj9giVq",
        "outputId": "29bc82b1-59d6-493d-ab9a-5c99b4262dd3"
      },
      "outputs": [
        {
          "output_type": "stream",
          "name": "stdout",
          "text": [
            "True\n",
            "True\n",
            "else\n"
          ]
        }
      ],
      "source": [
        "x = 10\n",
        "\n",
        "if x == 10:\n",
        "    print(x == 10)\n",
        "\n",
        "if x > 5:\n",
        "    print(x > 5)\n",
        "\n",
        "if x < 10:\n",
        "    print(x < 10)\n",
        "else:\n",
        "    print(\"else\")"
      ]
    },
    {
      "cell_type": "code",
      "execution_count": 19,
      "metadata": {
        "colab": {
          "base_uri": "https://localhost:8080/"
        },
        "id": "xIQRfwYvgiVq",
        "outputId": "da99d872-ed9e-46b8-c09f-bbeb6b8b7893"
      },
      "outputs": [
        {
          "output_type": "stream",
          "name": "stdout",
          "text": [
            "four\n",
            "five\n"
          ]
        }
      ],
      "source": [
        "x = \"1\"\n",
        "\n",
        "if x == 1:\n",
        "    print(\"one\")\n",
        "elif x == \"1\":\n",
        "    if int(x) > 1:\n",
        "        print(\"two\")\n",
        "    elif int(x) < 1:\n",
        "        print(\"three\")\n",
        "    else:\n",
        "        print(\"four\")\n",
        "\n",
        "if int(x) == 1:\n",
        "    print(\"five\")\n",
        "else:\n",
        "    print(\"six\")"
      ]
    },
    {
      "cell_type": "code",
      "execution_count": 20,
      "metadata": {
        "colab": {
          "base_uri": "https://localhost:8080/"
        },
        "id": "-YI_P8BXgiVq",
        "outputId": "a1712d79-90b3-4ff1-da0a-7a932f42659e"
      },
      "outputs": [
        {
          "output_type": "stream",
          "name": "stdout",
          "text": [
            "one\n",
            "three\n"
          ]
        }
      ],
      "source": [
        "x = 1\n",
        "y = 1.0\n",
        "z = \"1\"\n",
        "\n",
        "if x == y:\n",
        "    print(\"one\")\n",
        "if y == z:\n",
        "    print(\"two\")\n",
        "    print(x)\n",
        "    print(y)\n",
        "elif x == y:\n",
        "    print(\"three\")\n",
        "else:\n",
        "    print(\"four\")"
      ]
    },
    {
      "cell_type": "markdown",
      "metadata": {
        "id": "i1oEgNQOgiV1"
      },
      "source": [
        "## 3.2 Struktur perulangan\n",
        "\n",
        "Python menyediakan dua statement untuk melakukan proses perulangan yaitu for dan while. Diantara kedua statement ini, secara umum for lebih banyak digunakan daripada while.\n",
        "\n",
        "### 1. Statement while\n",
        "\n",
        "Sama seperti kebanyakan bahasa pemrograman lainnya, Python juga mendukung statement while untuk melakukan perulangan satu atau sekelompok statement. Bentuk umum dari perulangan while adalah sebagai berikut :\n",
        "\n",
        "```python\n",
        "while kondisi:\n",
        "    statement1\n",
        "    statement2\n",
        "    statement1\n",
        "    :\n",
        "    :\n",
        "    statementn\n",
        "```\n",
        "Pada bentuk perulangan diatas, statement1, statement2 dan seterusnya merupakan sekelompok statement yang akan diulang. Statement tersebut akan terus dieksekusi/ diulang selama kondisi bernilai True. Maka diperlukan sebuah statement yang akan bernilai False, agar proses dapat berhenti. Perhatikan syntax berikut :\n"
      ]
    },
    {
      "cell_type": "code",
      "execution_count": 21,
      "metadata": {
        "colab": {
          "base_uri": "https://localhost:8080/"
        },
        "id": "474hOzFWgiV1",
        "outputId": "c96980a4-5471-4a11-bcca-dfa9c3e8dda7"
      },
      "outputs": [
        {
          "output_type": "stream",
          "name": "stdout",
          "text": [
            "1\n",
            "9\n",
            "25\n",
            "49\n",
            "81\n"
          ]
        }
      ],
      "source": [
        "i = 1\n",
        "\n",
        "while i<10:\n",
        "    print(i**2)\n",
        "    i = i+2"
      ]
    },
    {
      "cell_type": "markdown",
      "metadata": {
        "id": "HDt2FzoAgiV1"
      },
      "source": [
        "#### Perhatikan contoh program untuk menghitung berapa ganjil dan genap dari rangkaian bilangan :"
      ]
    },
    {
      "cell_type": "code",
      "execution_count": 22,
      "metadata": {
        "colab": {
          "base_uri": "https://localhost:8080/"
        },
        "id": "AxvBKMzPgiV1",
        "outputId": "1dd6d7f2-88ba-49f8-abe2-87f8f5b28823"
      },
      "outputs": [
        {
          "output_type": "stream",
          "name": "stdout",
          "text": [
            "Enter a number or type 0 to stop: 5\n",
            "Enter a number or type 0 to stop: 8\n",
            "Enter a number or type 0 to stop: 10\n",
            "Enter a number or type 0 to stop: 3\n",
            "Enter a number or type 0 to stop: 1\n",
            "Enter a number or type 0 to stop: 4\n",
            "Enter a number or type 0 to stop: 6\n",
            "Enter a number or type 0 to stop: 0\n",
            "Odd numbers count: 3\n",
            "Even numbers count: 4\n"
          ]
        }
      ],
      "source": [
        "# program that reads a sequence of numbers\n",
        "# and counts how many numbers are even and how many are odd\n",
        "# program terminates when zero is entered\n",
        "\n",
        "oddNumbers = 0\n",
        "evenNumbers = 0\n",
        "\n",
        "# read the first number\n",
        "number = int(input(\"Enter a number or type 0 to stop: \"))\n",
        "\n",
        "# 0 terminates execution\n",
        "while number != 0:\n",
        "    # check if the number is odd\n",
        "    if number % 2 == 1:\n",
        "        # increase the oddNumbers counter\n",
        "        oddNumbers += 1\n",
        "    else:\n",
        "        # increase the evenNumbers counter\n",
        "        evenNumbers += 1\n",
        "    # read the next number\n",
        "    number = int(input(\"Enter a number or type 0 to stop: \"))\n",
        "\n",
        "# print results\n",
        "print(\"Odd numbers count:\", oddNumbers)\n",
        "print(\"Even numbers count:\", evenNumbers)"
      ]
    },
    {
      "cell_type": "markdown",
      "metadata": {
        "id": "JXM4oZrvgiV2"
      },
      "source": [
        "## Latihan\n",
        "A junior magician has picked a secret number. He has hidden it in a variable named `secretNumber`. He wants everyone who run his program to play the Guess the secret number game, and guess what number he has picked for them. Those who don't guess the number will be stuck in an endless loop forever! Unfortunately, he does not know how to complete the code.\n",
        "\n",
        "Your task is to help the magician complete the code in the editor in such a way so that the code:\n",
        "\n",
        "- will ask the user to enter an integer number;\n",
        "- will use a `while` loop;\n",
        "- will check whether the number entered by the user is the same as the number picked by the magician. If the number chosen by the user is different than the magician's secret number, the user should see the message `\"Ha ha! You're stuck in my loop!\"` and be prompted to enter a number again. If the number entered by the user matches the number picked by the magician, the number should be printed to the screen, and the magician should say the following words: `\"Well done, muggle! You are free now.\"`\n",
        "\n",
        "```python\n",
        "secretNumber = 777\n",
        "\n",
        "print(\n",
        "\"\"\"\n",
        "+================================+\n",
        "| Welcome to my game, muggle!    |\n",
        "| Enter an integer number        |\n",
        "| and guess what number I've     |\n",
        "| picked for you.                |\n",
        "| So, what is the secret number? |\n",
        "+================================+\n",
        "\"\"\")\n",
        "```\n",
        "\n",
        "The magician is counting on you! Don't disappoint him."
      ]
    },
    {
      "cell_type": "code",
      "execution_count": 23,
      "metadata": {
        "colab": {
          "base_uri": "https://localhost:8080/"
        },
        "id": "mMyACGzfgiV2",
        "outputId": "e801da3e-a8bf-4930-ecda-ec4498353305"
      },
      "outputs": [
        {
          "output_type": "stream",
          "name": "stdout",
          "text": [
            "Input angka rahasia untuk berhenti : 777\n",
            "Well done, Congrats...\n"
          ]
        }
      ],
      "source": [
        "secretNum = 777\n",
        "\n",
        "guessNum = 0\n",
        "\n",
        "while guessNum != secretNum:\n",
        "    guessNum = int(input(\"Input angka rahasia untuk berhenti : \"))\n",
        "    if guessNum != secretNum:\n",
        "        print(\"Perulangan akan terus lanjut...\")\n",
        "\n",
        "print(\"Well done, Congrats...\")"
      ]
    },
    {
      "cell_type": "markdown",
      "metadata": {
        "id": "iRYgb6EVgiV2"
      },
      "source": [
        "### 2. Statement for\n",
        "\n",
        "Selain menggunakan statement while, kita juga dapat melakukan perulangan dengan statement for. Perintah for biasanya digunakan untuk mengambil atau menelusuri data (item) yang terdapat pada tipe-tipe koleksi seperti string, list, tuple, dictionary dan set. Dalam pemrograman, proses penelusuran data dalam sebuah koleksi disebut iterasi. Selain itu, for juga dapat melakukan perulangan normal (sama seperti while), yaitu dengan menggunakan fungsi range(). Dengan menggunakan range(), kita akan dapat dengan mudah melakukan perulangan dari indeks awal ke indeks tertentu.\n",
        "\n",
        "Bentuk perintah for dapat dituliskan sebagai berikut :\n",
        "\n",
        "1. Statement for untuk perintah koleksi\n",
        "```python\n",
        "for indeks tipe koleksi:\n",
        "    statement1\n",
        "    statement2\n",
        "    ...\n",
        "```\n",
        "2. Statement for untuk rentang nilai tertentu\n",
        "```python\n",
        "for indeks in range (nilai_awal, nilai_akhir, step):\n",
        "    statement1\n",
        "    statement2\n",
        "    ...\n",
        "```\n",
        "Perhatikan contoh-contoh dibawah ini :"
      ]
    },
    {
      "cell_type": "code",
      "execution_count": 24,
      "metadata": {
        "colab": {
          "base_uri": "https://localhost:8080/"
        },
        "id": "0pfhg0CngiV2",
        "outputId": "fb80c665-930e-4486-d977-b5c9432cf05d"
      },
      "outputs": [
        {
          "output_type": "stream",
          "name": "stdout",
          "text": [
            "0\n",
            "1\n",
            "2\n",
            "3\n",
            "4\n"
          ]
        }
      ],
      "source": [
        "for i in range(5):\n",
        "    print(i)"
      ]
    },
    {
      "cell_type": "code",
      "execution_count": 25,
      "metadata": {
        "colab": {
          "base_uri": "https://localhost:8080/"
        },
        "id": "N4LRNSuPgiV3",
        "outputId": "0e0b2fc6-04c1-4ec6-b757-fdfc30541130"
      },
      "outputs": [
        {
          "output_type": "stream",
          "name": "stdout",
          "text": [
            "2\n",
            "3\n",
            "4\n",
            "5\n",
            "6\n",
            "7\n"
          ]
        }
      ],
      "source": [
        "for i in range(2,8):\n",
        "    print(i)"
      ]
    },
    {
      "cell_type": "code",
      "execution_count": 26,
      "metadata": {
        "colab": {
          "base_uri": "https://localhost:8080/"
        },
        "id": "UBRyvIVXgiV3",
        "outputId": "70cd9491-9c6c-41c1-bd71-3f5ea29e1607"
      },
      "outputs": [
        {
          "output_type": "stream",
          "name": "stdout",
          "text": [
            "2\n",
            "5\n",
            "8\n",
            "11\n",
            "14\n",
            "17\n"
          ]
        }
      ],
      "source": [
        "for i in range(2,18,3):\n",
        "    print(i)"
      ]
    },
    {
      "cell_type": "code",
      "execution_count": 27,
      "metadata": {
        "colab": {
          "base_uri": "https://localhost:8080/"
        },
        "id": "dLIsr_bMgiV3",
        "outputId": "13259b1c-24c3-4589-dcac-b36b34fa67b9"
      },
      "outputs": [
        {
          "output_type": "stream",
          "name": "stdout",
          "text": [
            "0\n",
            "1\n",
            "2\n",
            "3\n",
            "4\n",
            "masuk else\n"
          ]
        }
      ],
      "source": [
        "for i in range(5):\n",
        "    print(i)\n",
        "else:\n",
        "    print(\"masuk else\")"
      ]
    },
    {
      "cell_type": "markdown",
      "metadata": {
        "id": "Y4mJH7HGgiV3"
      },
      "source": [
        "## Latihan\n",
        "\n",
        "\n",
        "Do you know what Mississippi is? Well, it's the name of one of the states and rivers in the United States. The Mississippi River is about 2,340 miles long, which makes it the second longest river in the United States (the longest being the Missouri River). It's so long that a single drop of water needs 90 days to travel its entire length!\n",
        "\n",
        "The word Mississippi is also used for a slightly different purpose: to count mississippily.\n",
        "\n",
        "If you're not familiar with the phrase, we're here to explain to you what it means: it's used to count seconds.\n",
        "\n",
        "The idea behind it is that adding the word Mississippi to a number when counting seconds aloud makes them sound closer to clock-time, and therefore \"one Mississippi, two Mississippi, three Mississippi\" will take approximately an actual three seconds of time! It's often used by children playing hide-and-seek to make sure the seeker does an honest count.\n",
        "\n",
        "\n",
        "Your task is very simple here: write a program that uses a for loop to \"count mississippily\" to five. Having counted to five, the program should print to the screen the final message \"Ready or not, here I come!\"\n",
        "\n",
        "Use the skeleton we've provided in the editor.\n",
        "\n",
        "```python\n",
        "import time\n",
        "\n",
        "# Write a for loop that counts to five.\n",
        "    # Body of the loop - print the loop iteration number and the word \"Mississippi\".\n",
        "    # Body of the loop - use: time.sleep(1)\n",
        "\n",
        "# Write a print function with the final message.\n",
        "```\n",
        "\n",
        "<strong> EXTRA INFO </strong>\n",
        "\n",
        "Note that the code in the editor contains two elements which may not be fully clear to you at this moment: the import time statement, and the sleep() method. We're going to talk about them soon.\n",
        "\n",
        "For the time being, we'd just like you to know that we've imported the time module and used the sleep() method to suspend the execution of each subsequent print() function inside the for loop for one second, so that the message outputted to the console resembles an actual counting. Don't worry - you'll soon learn more about modules and methods."
      ]
    },
    {
      "cell_type": "code",
      "execution_count": 28,
      "metadata": {
        "colab": {
          "base_uri": "https://localhost:8080/"
        },
        "id": "UQEQSwxjgiV3",
        "outputId": "fdf540d4-1cbe-4561-cc35-ec1b68ec746e"
      },
      "outputs": [
        {
          "output_type": "stream",
          "name": "stdout",
          "text": [
            "0  Missisipi\n",
            "1  Missisipi\n",
            "2  Missisipi\n",
            "3  Missisipi\n",
            "4  Missisipi\n"
          ]
        }
      ],
      "source": [
        "import time\n",
        "\n",
        "for i in range(5):\n",
        "    print(i,\" Missisipi\")\n",
        "    time.sleep(1)"
      ]
    },
    {
      "cell_type": "markdown",
      "metadata": {
        "id": "3Z9r4mYkgiV3"
      },
      "source": [
        "### 3. Statement Loncat\n",
        "\n",
        "Statement loncat merupakan perintah yang digunakan untuk memindahkan eksekusi program dari satu bagian tertentu ke bagian lain. Python menyediakan tiga statement yaitu : break, continue dan return.\n",
        "\n",
        "#### 3.1 Statement break\n",
        "\n",
        "Statement break digunakan untuk menghentikan secara paksa proses perulangan, meskipun kondisi perulangan sebenarnya masih bernilai True. Perhatikan contoh-contoh berikut ini :"
      ]
    },
    {
      "cell_type": "code",
      "execution_count": 29,
      "metadata": {
        "colab": {
          "base_uri": "https://localhost:8080/"
        },
        "id": "z4o0OW-WgiV3",
        "outputId": "7396d236-2ffd-472e-dae0-6f92447d4aee"
      },
      "outputs": [
        {
          "output_type": "stream",
          "name": "stdout",
          "text": [
            "0 1 2 3 4 5 6 7  masih dalam for\n"
          ]
        }
      ],
      "source": [
        "for i in range (11):\n",
        "    print(i, end=\" \")\n",
        "    if i==7:\n",
        "        print(\" masih dalam for\")\n",
        "        break"
      ]
    },
    {
      "cell_type": "code",
      "execution_count": 30,
      "metadata": {
        "colab": {
          "base_uri": "https://localhost:8080/"
        },
        "id": "x1VZlNrPgiV3",
        "outputId": "194e0a4f-328a-4a59-e019-558d2e6b2755"
      },
      "outputs": [
        {
          "output_type": "stream",
          "name": "stdout",
          "text": [
            "The break instruction:\n",
            "Inside the loop. 1\n",
            "Inside the loop. 2\n",
            "Outside the loop.\n"
          ]
        }
      ],
      "source": [
        "# break - example\n",
        "\n",
        "print(\"The break instruction:\")\n",
        "for i in range(1, 6):\n",
        "    if i == 3:\n",
        "        break\n",
        "    print(\"Inside the loop.\", i)\n",
        "print(\"Outside the loop.\")"
      ]
    },
    {
      "cell_type": "code",
      "execution_count": 31,
      "metadata": {
        "id": "6XgHmMcagiV3",
        "colab": {
          "base_uri": "https://localhost:8080/"
        },
        "outputId": "43c7b863-c20a-4086-8b63-23221a2eeca1"
      },
      "outputs": [
        {
          "output_type": "stream",
          "name": "stdout",
          "text": [
            "Enter a number or type -1 to end program: -1\n",
            "You haven't entered any number.\n"
          ]
        }
      ],
      "source": [
        "largestNumber = -99999999\n",
        "counter = 0\n",
        "\n",
        "while True:\n",
        "    number = int(input(\"Enter a number or type -1 to end program: \"))\n",
        "    if number == -1:\n",
        "        break\n",
        "    counter += 1\n",
        "    if number > largestNumber:\n",
        "        largestNumber = number\n",
        "\n",
        "if counter != 0:\n",
        "    print(\"The largest number is\", largestNumber)\n",
        "else:\n",
        "    print(\"You haven't entered any number.\")"
      ]
    },
    {
      "cell_type": "markdown",
      "metadata": {
        "id": "Yd_2FytDgiV4"
      },
      "source": [
        "#### 3.2 Statement continue\n",
        "\n",
        "Statement continue berguna untuk memaksa pengulangan agar memroses indeks selanjutnya meskipun statement didalam blok pengulangan sebenarna belum semua di eksekusi. Dengan kata lain, statement yang ada dibawah statement continue akan diabaikan (tidak dieksekusi)"
      ]
    },
    {
      "cell_type": "code",
      "execution_count": 32,
      "metadata": {
        "id": "DtF0fzlwgiV4",
        "colab": {
          "base_uri": "https://localhost:8080/"
        },
        "outputId": "346682ee-355f-419d-c905-3fdc24a2c915"
      },
      "outputs": [
        {
          "output_type": "stream",
          "name": "stdout",
          "text": [
            "1\t3\t5\t7\t9\t"
          ]
        }
      ],
      "source": [
        "for i in range (1,11):\n",
        "    if i % 2 ==0:\n",
        "        continue\n",
        "    print(i, end=\"\\t\")"
      ]
    },
    {
      "cell_type": "code",
      "execution_count": 33,
      "metadata": {
        "id": "VlhZjvwWgiV4",
        "colab": {
          "base_uri": "https://localhost:8080/"
        },
        "outputId": "ea2bb81d-1a6d-454e-d307-1ad1190040a3"
      },
      "outputs": [
        {
          "output_type": "stream",
          "name": "stdout",
          "text": [
            "2\n",
            "4\n",
            "6\n",
            "8\n",
            "10\n"
          ]
        }
      ],
      "source": [
        "for i in range (1,11):\n",
        "    if i % 2 ==0:\n",
        "        print(i)"
      ]
    },
    {
      "cell_type": "code",
      "execution_count": 34,
      "metadata": {
        "id": "wWWqT1MugiV4",
        "colab": {
          "base_uri": "https://localhost:8080/"
        },
        "outputId": "77393fa6-4d3b-4d85-df78-2132224f8f0b"
      },
      "outputs": [
        {
          "output_type": "stream",
          "name": "stdout",
          "text": [
            "\n",
            "The continue instruction:\n",
            "Inside the loop. 1\n",
            "Inside the loop. 2\n",
            "Inside the loop. 4\n",
            "Inside the loop. 5\n",
            "Outside the loop.\n"
          ]
        }
      ],
      "source": [
        "# continue - example\n",
        "\n",
        "print(\"\\nThe continue instruction:\")\n",
        "for i in range(1, 6):\n",
        "    if i == 3:\n",
        "        continue\n",
        "    print(\"Inside the loop.\", i)\n",
        "print(\"Outside the loop.\")"
      ]
    },
    {
      "cell_type": "code",
      "execution_count": 35,
      "metadata": {
        "id": "MfaaE0_4giV4",
        "colab": {
          "base_uri": "https://localhost:8080/"
        },
        "outputId": "5feece6f-756a-47a6-cef6-1060c78878d6"
      },
      "outputs": [
        {
          "output_type": "stream",
          "name": "stdout",
          "text": [
            "Enter a number or type -1 to end program: -1\n",
            "You haven't entered any number.\n"
          ]
        }
      ],
      "source": [
        "largestNumber = -99999999\n",
        "counter = 0\n",
        "\n",
        "number = int(input(\"Enter a number or type -1 to end program: \"))\n",
        "\n",
        "while number != -1:\n",
        "    if number == -1:\n",
        "        continue\n",
        "    counter += 1\n",
        "\n",
        "    if number > largestNumber:\n",
        "        largestNumber = number\n",
        "    number = int(input(\"Enter a number or type -1 to end program: \"))\n",
        "\n",
        "if counter:\n",
        "    print(\"The largest number is\", largestNumber)\n",
        "else:\n",
        "    print(\"You haven't entered any number.\")"
      ]
    },
    {
      "cell_type": "markdown",
      "metadata": {
        "id": "waxfVGztgiV4"
      },
      "source": [
        "## Latihan\n",
        "\n",
        "The `break` statement is used to exit/terminate a loop.\n",
        "\n",
        "Design a program that uses a `while` loop and continuously asks the user to enter a word unless the user enters `\"chupacabra\"` as the secret exit word, in which case the message `\"You've successfully left the loop.\"` should be printed to the screen, and the loop should terminate.\n",
        "\n",
        "Don't print any of the words entered by the user. Use the concept of conditional execution and the break statement."
      ]
    },
    {
      "cell_type": "code",
      "execution_count": 36,
      "metadata": {
        "id": "lQ4x2WtagiV4",
        "colab": {
          "base_uri": "https://localhost:8080/"
        },
        "outputId": "9e46b5a5-7c59-44ab-803b-2a4d9463e908"
      },
      "outputs": [
        {
          "output_type": "stream",
          "name": "stdout",
          "text": [
            "Masukkan Sebuah Kata untuk keluar dari perulangan = Kau\n",
            "Masukkan Sebuah Kata untuk keluar dari perulangan = Mawar \n",
            "Masukkan Sebuah Kata untuk keluar dari perulangan = Hitam\n",
            "Masukkan Sebuah Kata untuk keluar dari perulangan = Bau \n",
            "Masukkan Sebuah Kata untuk keluar dari perulangan = Mu \n",
            "Masukkan Sebuah Kata untuk keluar dari perulangan = Kepedihan\n",
            "Masukkan Sebuah Kata untuk keluar dari perulangan = chupacabra\n",
            "You've successfully left the loop\n"
          ]
        }
      ],
      "source": [
        "while True:\n",
        "    word = input(\"Masukkan Sebuah Kata untuk keluar dari perulangan = \")\n",
        "    if(word==\"chupacabra\"):\n",
        "        break\n",
        "\n",
        "print(\"You've successfully left the loop\")"
      ]
    },
    {
      "cell_type": "markdown",
      "metadata": {
        "id": "p_cllyQXgiV4"
      },
      "source": [
        "## Latihan\n",
        "\n",
        "\n",
        "The `continue` statement is used to skip the current block and move ahead to the next iteration, without executing the statements inside the loop.\n",
        "\n",
        "It can be used with both the while and for loops.\n",
        "\n",
        "Your task here is very special: you must design a vowel eater! Write a program that uses:\n",
        "\n",
        "- a for loop;\n",
        "- the concept of conditional execution (if-elif-else)\n",
        "- the continue statement.\n",
        "\n",
        "Your program must:\n",
        "\n",
        "- ask the user to enter a word;\n",
        "- use `userWord = userWord.upper()` to convert the word entered by the user to upper case; we'll talk about the so-called string methods and the `upper()` method very soon - don't worry;\n",
        "- use conditional execution and the `continue` statement to \"eat\" the following vowels A, E, I, O, U from the inputted word;\n",
        "- print the uneaten letters to the screen, each one of them on a separate line.\n",
        "\n",
        "```python\n",
        "# Prompt the user to enter a word\n",
        "# and assign it to the userWord variable.\n",
        "\n",
        "for letter in userWord:\n",
        "    # Complete the body of the for loop.\n",
        "```\n",
        "\n",
        "Test your program with the data we've provided for you.\n",
        "\n",
        "\n",
        "Test data\n",
        "\n",
        "Sample input: `Gregory`\n",
        "\n",
        "Expected output:\n",
        "```\n",
        "G\n",
        "R\n",
        "G\n",
        "R\n",
        "Y\n",
        "```\n",
        "Sample input: `abstemious`\n",
        "\n",
        "Expected output:\n",
        "```\n",
        "B\n",
        "S\n",
        "T\n",
        "M\n",
        "S\n",
        "```"
      ]
    },
    {
      "cell_type": "code",
      "execution_count": 37,
      "metadata": {
        "id": "bkF0sVevgiV4",
        "colab": {
          "base_uri": "https://localhost:8080/"
        },
        "outputId": "bf68d154-8be9-4447-c2cd-4cb6bfc9b2bb"
      },
      "outputs": [
        {
          "output_type": "stream",
          "name": "stdout",
          "text": [
            "Masukkan sebuah kata = Hi\n",
            "H\n"
          ]
        }
      ],
      "source": [
        "# Prompt the user to enter a word\n",
        "# and assign it to the userWord variable.\n",
        "userWord = input(\"Masukkan sebuah kata = \")\n",
        "\n",
        "for letter in userWord:\n",
        "    if letter.upper() in ['A','I','U','E','O']:\n",
        "        continue\n",
        "\n",
        "    print(letter.upper())"
      ]
    },
    {
      "cell_type": "markdown",
      "metadata": {
        "id": "Mio2e8MrgiV4"
      },
      "source": [
        "## Latihan\n",
        "\n",
        "Listen to this story: a boy and his father, a computer programmer, are playing with wooden blocks. They are building a pyramid.\n",
        "\n",
        "Their pyramid is a bit weird, as it is actually a pyramid-shaped wall - it's flat. The pyramid is stacked according to one simple principle: each lower layer contains one block more than the layer above.\n",
        "\n",
        "The figure illustrates the rule used by the builders:\n",
        "```\n",
        "=\n",
        "==\n",
        "===\n",
        "```\n",
        "blocks : 6\n",
        "height : 3\n",
        "Your task is to write a program which reads the number of blocks the builders have, and outputs the height of the pyramid that can be built using these blocks.\n",
        "\n",
        "Note: the height is measured by the number of fully completed layers - if the builders don't have a sufficient number of blocks and cannot complete the next layer, they finish their work immediately.\n",
        "\n",
        "Test your code using the data we've provided.\n",
        "\n",
        "Sample input: 6\n",
        "\n",
        "Expected output: The height of the pyramid: 3\n",
        "\n",
        "Sample input: 20\n",
        "\n",
        "Expected output: The height of the pyramid: 5\n",
        "\n",
        "Sample input: 1000\n",
        "\n",
        "Expected output: The height of the pyramid: 44\n",
        "\n",
        "Sample input: 2\n",
        "\n",
        "Expected output: The height of the pyramid: 1"
      ]
    },
    {
      "cell_type": "code",
      "execution_count": 38,
      "metadata": {
        "id": "Af4A6mrhgiV4",
        "colab": {
          "base_uri": "https://localhost:8080/"
        },
        "outputId": "c53e20c3-14ae-43c7-da54-e3215f6a7582"
      },
      "outputs": [
        {
          "output_type": "stream",
          "name": "stdout",
          "text": [
            "Enter the number of blocks: 50\n",
            "The height of the pyramid: 9\n"
          ]
        }
      ],
      "source": [
        "blocks = int(input(\"Enter the number of blocks: \"))\n",
        "current_block = 0\n",
        "height = 0\n",
        "i=0\n",
        "\n",
        "while i<blocks:\n",
        "    height += 1\n",
        "    current_block += height\n",
        "    # print(i,current_block)\n",
        "    if current_block> blocks:\n",
        "        break\n",
        "\n",
        "height -= 1\n",
        "\n",
        "print(\"The height of the pyramid:\", height)"
      ]
    },
    {
      "cell_type": "markdown",
      "metadata": {
        "id": "5hiDCAvBgiV4"
      },
      "source": [
        "### Latihan\n",
        "\n",
        "1. Buatlah perulangan dengan menggunakan for yang mulai dari 0 sampai dengan 10, dan cetak nomer ganjil pada layar.\n",
        "\n",
        "2. Buatlah perulangan dengan menggunakan while dari 0 sampai dengan 10, dan cetak nomer ganjil pada layar\n",
        "\n",
        "3. Buatlah sebuah program dengan perulangan for dan statement break. Program harus diiterasi sebanyak jumlah karakter didalam sebuah alamat email, dan loop akan berhenti jika menemukan simbol '@' dan cetak karakter yang ditemukan sebelum simbol '@' didalam sebuah line\n",
        "\n",
        "4. Buatlah sebuah perulangan loop dan statement continue. Program harus diiterasi sebanyak nomer yang ditemukan dalam string (digit = \"0165031806510\"), ganti 0 dengan x, lalu cetak string yang telah dimodifikasi."
      ]
    },
    {
      "cell_type": "code",
      "execution_count": 39,
      "metadata": {
        "id": "TyPWQCm9giV5",
        "colab": {
          "base_uri": "https://localhost:8080/"
        },
        "outputId": "54b1c0ee-26a6-43d2-ef3f-12e553c1ab78"
      },
      "outputs": [
        {
          "output_type": "stream",
          "name": "stdout",
          "text": [
            "1 3 5 7 9 "
          ]
        }
      ],
      "source": [
        "for i in range(1, 11):\n",
        "    if i % 2 !=0:\n",
        "        print(i,end=' ')"
      ]
    },
    {
      "cell_type": "code",
      "execution_count": 40,
      "metadata": {
        "id": "7G8lvhoMgiV5",
        "colab": {
          "base_uri": "https://localhost:8080/"
        },
        "outputId": "c71ee671-b50e-43d1-a68d-f323154a970e"
      },
      "outputs": [
        {
          "output_type": "stream",
          "name": "stdout",
          "text": [
            "1 3 5 7 9 "
          ]
        }
      ],
      "source": [
        "x=1\n",
        "while x<11:\n",
        "    if x % 2 !=0:\n",
        "        print(x,end=' ')\n",
        "    x +=1"
      ]
    },
    {
      "cell_type": "code",
      "execution_count": 41,
      "metadata": {
        "id": "xofOoIT_giV5",
        "colab": {
          "base_uri": "https://localhost:8080/"
        },
        "outputId": "6a1e3311-cc2c-4f3b-b0b3-ffb747241b81"
      },
      "outputs": [
        {
          "output_type": "stream",
          "name": "stdout",
          "text": [
            "r a t n a . l e s t a r i "
          ]
        }
      ],
      "source": [
        "for ch in \"ratna.lestari@ugm.ac.id\":\n",
        "    if ch == \"@\":\n",
        "        break\n",
        "    print(ch,end=' ')"
      ]
    },
    {
      "cell_type": "code",
      "execution_count": 42,
      "metadata": {
        "id": "SI8iRyQJgiV5",
        "colab": {
          "base_uri": "https://localhost:8080/"
        },
        "outputId": "94523c6a-7a47-494e-8f48-a107511ea5cf"
      },
      "outputs": [
        {
          "output_type": "stream",
          "name": "stdout",
          "text": [
            "x\n",
            "1\n",
            "6\n",
            "5\n",
            "x\n",
            "3\n",
            "1\n",
            "8\n",
            "x\n",
            "6\n",
            "5\n",
            "1\n",
            "x\n"
          ]
        }
      ],
      "source": [
        "for digit in \"0165031806510\":\n",
        "    if digit == \"0\":\n",
        "        print (\"x\")\n",
        "        continue\n",
        "    print(digit)"
      ]
    },
    {
      "cell_type": "markdown",
      "metadata": {
        "id": "0rX1HOeygiV5"
      },
      "source": [
        "#### Apakah output dari kode-kode berikut?"
      ]
    },
    {
      "cell_type": "code",
      "execution_count": 43,
      "metadata": {
        "id": "u0fGhqADgiV5",
        "colab": {
          "base_uri": "https://localhost:8080/"
        },
        "outputId": "5e4ca56a-10dd-41bc-a296-e00f9ba2813c"
      },
      "outputs": [
        {
          "output_type": "stream",
          "name": "stdout",
          "text": [
            "4\n",
            "3\n",
            "2\n",
            "0\n"
          ]
        }
      ],
      "source": [
        "n = 3\n",
        "\n",
        "while n > 0:\n",
        "    print(n + 1)\n",
        "    n -= 1\n",
        "else:\n",
        "    print(n)"
      ]
    },
    {
      "cell_type": "code",
      "execution_count": 44,
      "metadata": {
        "id": "6SZS4xyUgiV5",
        "colab": {
          "base_uri": "https://localhost:8080/"
        },
        "outputId": "dd35a50a-a17d-40f9-bebf-edef331c3609"
      },
      "outputs": [
        {
          "output_type": "stream",
          "name": "stdout",
          "text": [
            "-1\n",
            "0\n",
            "1\n",
            "2\n",
            "3\n"
          ]
        }
      ],
      "source": [
        "n = range(4)\n",
        "\n",
        "for num in n:\n",
        "    print(num - 1)\n",
        "else:\n",
        "    print(num)"
      ]
    },
    {
      "cell_type": "code",
      "execution_count": 45,
      "metadata": {
        "id": "LSi1W-YNgiV5",
        "colab": {
          "base_uri": "https://localhost:8080/"
        },
        "outputId": "0027917a-d2ca-4bc4-9ad9-2038fb086138"
      },
      "outputs": [
        {
          "output_type": "stream",
          "name": "stdout",
          "text": [
            "0\n",
            "3\n"
          ]
        }
      ],
      "source": [
        "for i in range(0, 6, 3):\n",
        "    print(i)"
      ]
    },
    {
      "cell_type": "markdown",
      "metadata": {
        "id": "bxton4BigiV5"
      },
      "source": [
        "## 3.3 Operasi Logika\n",
        "\n",
        "Operasi Logika `and`\n",
        "\n",
        "| Argument A | Argument B | A and B |\n",
        "|------------|------------|---------|\n",
        "| False      | False      | False   |\n",
        "| False      | True       | False   |\n",
        "| True       | False      | False   |\n",
        "| True       | True       | True    |\n",
        "\n",
        "Operasi Logika `or`\n",
        "\n",
        "| Argument A | Argument B | A or B |\n",
        "|------------|------------|--------|\n",
        "| False      | False      | False  |\n",
        "| False      | True       | True   |\n",
        "| True       | False      | True   |\n",
        "| True       | True       | True   |\n",
        "\n",
        "Operasi Logika `not`\n",
        "\n",
        "| Argument | not Argument |\n",
        "|----------|--------------|\n",
        "| False    | True         |\n",
        "| True     | False        |\n"
      ]
    },
    {
      "cell_type": "markdown",
      "metadata": {
        "id": "PmvTzTspgiV5"
      },
      "source": [
        "> If we have some free time, <b>and</b> the weather is good, we will go for a walk\n",
        "\n",
        "> If you are in the mall <b>or</b> I am in the mall, one of us will buy a gift for Mom.\n",
        "\n",
        "Perhatikan contoh dibawah ini :"
      ]
    },
    {
      "cell_type": "code",
      "execution_count": 46,
      "metadata": {
        "id": "8-LscmDcgiV5",
        "colab": {
          "base_uri": "https://localhost:8080/"
        },
        "outputId": "bf2cadf5-8fa6-417e-af36-dc2d22644d77"
      },
      "outputs": [
        {
          "output_type": "stream",
          "name": "stdout",
          "text": [
            "False\n"
          ]
        }
      ],
      "source": [
        "x = 1\n",
        "y = 0\n",
        "\n",
        "z = ((x == y) and (x == y)) or not(x == y)\n",
        "print(not(z))"
      ]
    },
    {
      "cell_type": "markdown",
      "metadata": {
        "id": "0dlQqK93giV5"
      },
      "source": [
        "## 3.4 List dan Array\n",
        "\n",
        "Tipe list dalam python sebenernya mirip dengan array normal pada bahasa pemrograman lain. List juga dapat menampung beberapa tipe data sekaligus.\n",
        "\n",
        "Bentuk umum untuk membuat list dalam python adalah :\n",
        "\n",
        "```python\n",
        "\n",
        "nama_list = [nilai1, nilai2, nilai3,...]\n",
        "```\n",
        "\n",
        "Perhatikan contoh dibawah ini :"
      ]
    },
    {
      "cell_type": "code",
      "execution_count": 47,
      "metadata": {
        "id": "G2H44imAgiV5",
        "colab": {
          "base_uri": "https://localhost:8080/"
        },
        "outputId": "3cf3ed9b-b0a2-4b7c-b45c-5278d013bb51"
      },
      "outputs": [
        {
          "output_type": "stream",
          "name": "stdout",
          "text": [
            "[1, 2, 3, 4, 5]\n"
          ]
        }
      ],
      "source": [
        "var1=1\n",
        "var2=2\n",
        "var3=3\n",
        "var4=4\n",
        "var5=5\n",
        "\n",
        "#bandingkan\n",
        "\n",
        "var=[1,2,3,4,5]\n",
        "print(var)"
      ]
    },
    {
      "cell_type": "markdown",
      "metadata": {
        "id": "a58NQT2YgiV5"
      },
      "source": [
        "### Indexing List\n",
        "Dalam list, elemen tidak diindeks berdasarkan key tertentu yang namanya bisa didefinisikan sendiri melainkan berdasarkan indeks bilangan yang diawali dengan nilai nol(0). Perhatikan contoh berikut :"
      ]
    },
    {
      "cell_type": "code",
      "execution_count": 48,
      "metadata": {
        "id": "cv0MJiNlgiV5",
        "colab": {
          "base_uri": "https://localhost:8080/"
        },
        "outputId": "1ac3e2dc-f7bd-46cf-a84b-6a88622debda"
      },
      "outputs": [
        {
          "output_type": "stream",
          "name": "stdout",
          "text": [
            "[2, 3, 4, 5]\n",
            "4\n",
            "5\n"
          ]
        }
      ],
      "source": [
        "num = [2,3,4,5]\n",
        "print(num)\n",
        "print(num[2])\n",
        "print(num[-1])"
      ]
    },
    {
      "cell_type": "markdown",
      "metadata": {
        "id": "1SntoHd8giV6"
      },
      "source": [
        "Indeks dapat juga bernilai negatif yaitu menghitung indeks mulai dari kanan. Perhatikan contoh berikut :"
      ]
    },
    {
      "cell_type": "code",
      "execution_count": 49,
      "metadata": {
        "id": "Zs5YQy6mgiV6",
        "colab": {
          "base_uri": "https://localhost:8080/"
        },
        "outputId": "b58ba101-7e27-44ef-f165-2d9a566ffc71"
      },
      "outputs": [
        {
          "output_type": "stream",
          "name": "stdout",
          "text": [
            "500\n",
            "400\n",
            "100\n",
            "\n",
            "\n",
            "500\n",
            "400\n",
            "100\n"
          ]
        }
      ],
      "source": [
        "lst = [100,200,300,400,500]\n",
        "print(lst[-1])\n",
        "print(lst[-2])\n",
        "print(lst[-5])\n",
        "\n",
        "print(\"\\n\")\n",
        "print(lst[4])\n",
        "print(lst[3])\n",
        "print(lst[0])"
      ]
    },
    {
      "cell_type": "markdown",
      "metadata": {
        "id": "AnAemNXpgiV6"
      },
      "source": [
        "## Slicing List"
      ]
    },
    {
      "cell_type": "code",
      "execution_count": 50,
      "metadata": {
        "id": "xdXAbv-CgiV6",
        "colab": {
          "base_uri": "https://localhost:8080/"
        },
        "outputId": "e0e61054-3bc5-4367-894e-bef9addfe989"
      },
      "outputs": [
        {
          "output_type": "stream",
          "name": "stdout",
          "text": [
            "[4, 1, 6]\n",
            "[1, 6]\n",
            "[9, 10, 8]\n",
            "[4, 1, 6]\n",
            "[4, 1, 6, 9, 10, 8]\n"
          ]
        }
      ],
      "source": [
        "lst=[4,1,6,9,10,8]\n",
        "\n",
        "print(lst[0:3])\n",
        "print(lst[1:3])\n",
        "\n",
        "print(lst[-3:])\n",
        "print(lst[:-3])\n",
        "\n",
        "print(lst[:])"
      ]
    },
    {
      "cell_type": "markdown",
      "metadata": {
        "id": "kFt42I5qgiV6"
      },
      "source": [
        "### Swap\n",
        "\n",
        "Nilai elemen didalam list selain dapat diakses juga dapat dimanipulasi dengan swapping. Perhatikan contoh berikut :"
      ]
    },
    {
      "cell_type": "code",
      "execution_count": 51,
      "metadata": {
        "id": "PPLTRR8jgiV6",
        "colab": {
          "base_uri": "https://localhost:8080/"
        },
        "outputId": "bf7e1ec1-8f34-49da-a3f1-3f3114105296"
      },
      "outputs": [
        {
          "output_type": "stream",
          "name": "stdout",
          "text": [
            "[3, 2, 4]\n"
          ]
        }
      ],
      "source": [
        "num=[2,3,4]\n",
        "num[0],num[1] = num[1], num[0]\n",
        "print(num)"
      ]
    },
    {
      "cell_type": "markdown",
      "metadata": {
        "id": "0ST7V7GjgiV6"
      },
      "source": [
        "#### Bubble Short\n",
        "![BubbleSort_worst_case.gif](attachment:BubbleSort_worst_case.gif)"
      ]
    },
    {
      "cell_type": "code",
      "execution_count": 52,
      "metadata": {
        "id": "FRc-VsZagiV6",
        "colab": {
          "base_uri": "https://localhost:8080/"
        },
        "outputId": "f33d75f8-d528-49f8-8c0f-4c2b5e8ce41b"
      },
      "outputs": [
        {
          "output_type": "stream",
          "name": "stdout",
          "text": [
            "[2, 4, 6, 8, 10]\n"
          ]
        }
      ],
      "source": [
        "myList = [8, 10, 6, 2, 4] # list to sort\n",
        "swapped = True # it's a little fake - we need it to enter the while loop\n",
        "\n",
        "while swapped:\n",
        "    swapped = False # no swaps so far\n",
        "    for i in range(len(myList) - 1):\n",
        "        if myList[i] > myList[i + 1]:\n",
        "            swapped = True # swap occured!\n",
        "            myList[i], myList[i + 1] = myList[i + 1], myList[i]\n",
        "\n",
        "print(myList)"
      ]
    },
    {
      "cell_type": "markdown",
      "metadata": {
        "id": "k8Xt0j3VgiV6"
      },
      "source": [
        "### Lab 3.4.1.6: The basics of lists\n",
        "There once was a hat. The hat contained no rabbit, but a list of five numbers: 1, 2, 3, 4, and 5.\n",
        "\n",
        "Your task is to:\n",
        "\n",
        "- write a line of code that prompts the user to replace the middle number in the list with an integer number entered by the user (step 1)\n",
        "- write a line of code that removes the last element from the list (step 2)\n",
        "- write a line of code that prints the length of the existing list (step 3.)\n",
        "Ready for this challenge?"
      ]
    },
    {
      "cell_type": "code",
      "execution_count": 53,
      "metadata": {
        "id": "G2EGqsSTgiV6",
        "colab": {
          "base_uri": "https://localhost:8080/"
        },
        "outputId": "da447b28-fe16-4b9f-8429-09f6636e4bf4"
      },
      "outputs": [
        {
          "output_type": "stream",
          "name": "stdout",
          "text": [
            "[1, 2, 3, 4, 5]\n"
          ]
        }
      ],
      "source": [
        "hatList = [1, 2, 3, 4, 5]  # This is an existing list of numbers hidden in the hat.\n",
        "\n",
        "# Step 1: write a line of code that prompts the user\n",
        "# to replace the middle number with an integer number entered by the user.\n",
        "\n",
        "# Step 2: write a line of code here that removes the last element from the list.\n",
        "\n",
        "# Step 3: write a line of code here that prints the length of the existing list.\n",
        "\n",
        "print(hatList)"
      ]
    },
    {
      "cell_type": "markdown",
      "metadata": {
        "id": "xdS5O-nugiV6"
      },
      "source": [
        "### Menambah Elemen ke dalam list\n",
        "\n",
        "Terdapat tiga cara untuk menambahkan elemen baru kedalam sebuah list yaitu :\n",
        "\n",
        " - Menggunakan metode append() : Metode ini digunakan untuk menambah elemen tunggal dibagian akhir list. Perhatikan contoh dibawah :"
      ]
    },
    {
      "cell_type": "code",
      "execution_count": 54,
      "metadata": {
        "id": "GIWRpCuAgiV6",
        "colab": {
          "base_uri": "https://localhost:8080/"
        },
        "outputId": "0b2f2b90-a7f8-4404-f557-64a48dc8050d"
      },
      "outputs": [
        {
          "output_type": "stream",
          "name": "stdout",
          "text": [
            "['Salak', 'Mangga', 'Apel', 'Jeruk']\n"
          ]
        }
      ],
      "source": [
        "buah=[\"Salak\",\"Mangga\",\"Apel\"]\n",
        "buah.append(\"Jeruk\")\n",
        "print(buah)"
      ]
    },
    {
      "cell_type": "code",
      "execution_count": 55,
      "metadata": {
        "id": "xqpT27idgiV6",
        "colab": {
          "base_uri": "https://localhost:8080/"
        },
        "outputId": "8e674adc-b227-4d83-96a7-4b01ac21252f"
      },
      "outputs": [
        {
          "output_type": "stream",
          "name": "stdout",
          "text": [
            "[1, 2, 3, 4, 5]\n"
          ]
        }
      ],
      "source": [
        "myList = [] # creating an empty list\n",
        "\n",
        "for i in range(5):\n",
        "    myList.append(i + 1)\n",
        "\n",
        "print(myList)"
      ]
    },
    {
      "cell_type": "markdown",
      "metadata": {
        "id": "M60XheSIgiV6"
      },
      "source": [
        "`Menggunakan metode insert() : Metode ini digunakan untuk menambah elemen tunggal di indeks / posisi tertentu. Perhatikan contoh dibawah :`"
      ]
    },
    {
      "cell_type": "code",
      "execution_count": 56,
      "metadata": {
        "id": "sZvsBQyOgiV7",
        "colab": {
          "base_uri": "https://localhost:8080/"
        },
        "outputId": "bf883be5-8447-4810-c723-1bb45e135473"
      },
      "outputs": [
        {
          "output_type": "stream",
          "name": "stdout",
          "text": [
            "['durian', 'kiwi', 'mangga', 'apel']\n"
          ]
        }
      ],
      "source": [
        "buah = [\"durian\", \"mangga\", \"apel\"]\n",
        "buah.insert(1,\"kiwi\")\n",
        "print (buah)"
      ]
    },
    {
      "cell_type": "code",
      "execution_count": 57,
      "metadata": {
        "id": "4oAtrvm2giV7",
        "colab": {
          "base_uri": "https://localhost:8080/"
        },
        "outputId": "92c432c2-7c49-47e8-c5bc-d128c9035590"
      },
      "outputs": [
        {
          "output_type": "stream",
          "name": "stdout",
          "text": [
            "4\n",
            "[111, 7, 2, 1]\n",
            "5\n",
            "[111, 7, 2, 1, 4]\n",
            "6\n",
            "[222, 111, 7, 2, 1, 4]\n"
          ]
        }
      ],
      "source": [
        "numbers = [111, 7, 2, 1]\n",
        "print(len(numbers))\n",
        "print(numbers)\n",
        "\n",
        "###\n",
        "\n",
        "numbers.append(4)\n",
        "\n",
        "print(len(numbers))\n",
        "print(numbers)\n",
        "\n",
        "###\n",
        "\n",
        "numbers.insert(0, 222)\n",
        "print(len(numbers))\n",
        "print(numbers)\n",
        "\n",
        "#"
      ]
    },
    {
      "cell_type": "markdown",
      "metadata": {
        "id": "yE3geZH3giV7"
      },
      "source": [
        "### Menghapus Elemen kedalam list\n",
        "\n",
        "Menghapus elemen dapat dilakukan dengan :\n",
        "\n",
        "```python\n",
        "nama_list.remove(nilai)\n",
        "```\n",
        "\n",
        "atau dengan memberikan indeksnya menggunakan instruksi delete :\n",
        "\n",
        "```python\n",
        "del nama_list[indeks]"
      ]
    },
    {
      "cell_type": "code",
      "execution_count": 58,
      "metadata": {
        "id": "Ko_J7dUagiV7",
        "colab": {
          "base_uri": "https://localhost:8080/"
        },
        "outputId": "7867570d-21d1-4344-9bb2-e244c17ebf08"
      },
      "outputs": [
        {
          "output_type": "stream",
          "name": "stdout",
          "text": [
            "[5, 3, 2, 1]\n"
          ]
        }
      ],
      "source": [
        "num = [5,4,3,2,1]\n",
        "\n",
        "del num[1]\n",
        "print(num)"
      ]
    },
    {
      "cell_type": "markdown",
      "metadata": {
        "id": "PMFaj9OFgiV7"
      },
      "source": [
        "## Latihan\n",
        "\n",
        "The Beatles were one of the most popular music group of the 1960s, and the best-selling band in history. Some people consider them to be the most influential act of the rock era. Indeed, they were included in Time magazine's compilation of the 20th Century's 100 most influential people.\n",
        "\n",
        "The band underwent many line-up changes, culminating in 1962 with the line-up of John Lennon, Paul McCartney, George Harrison, and Richard Starkey (better known as Ringo Starr).\n",
        "\n",
        "\n",
        "Write a program that reflects these changes and lets you practice with the concept of lists. Your task is to:\n",
        "\n",
        "- step 1: create an empty list named `beatles`;\n",
        "- step 2: use the `append()` method to add the following members of the band to the list: `John Lennon`, `Paul McCartney`, and `George Harrison`;\n",
        "- step 3: use the `for` loop and the `append()` method to prompt the user to add the following members of the band to the list: `Stu Sutcliffe`, and `Pete Best`;\n",
        "- step 4: use the `del` instruction to remove `Stu Sutcliffe` and `Pete Best` from the list;\n",
        "- step 5: use the `insert()` method to add `Ringo Starr` to the beginning of the list.\n",
        "By the way, are you a Beatles fan?"
      ]
    },
    {
      "cell_type": "code",
      "execution_count": 59,
      "metadata": {
        "id": "0IPa-LKkgiV7",
        "colab": {
          "base_uri": "https://localhost:8080/"
        },
        "outputId": "ca1e56d5-373f-4af1-a7cd-bd512289177b"
      },
      "outputs": [
        {
          "output_type": "stream",
          "name": "stdout",
          "text": [
            "Step 1: []\n",
            "Step 2: ['John Lennon', 'Paul McCartney', 'George Harrison']\n",
            "Masukkan anggota baru = Alwi\n",
            "Masukkan anggota baru = Gus Javar\n",
            "Step 3: ['John Lennon', 'Paul McCartney', 'George Harrison', 'Alwi', 'Gus Javar']\n",
            "Step 4: ['John Lennon', 'Paul McCartney', 'George Harrison']\n",
            "Step 5: ['Ringo Starr', 'John Lennon', 'Paul McCartney', 'George Harrison']\n",
            "The Fab 4\n"
          ]
        }
      ],
      "source": [
        "# step 1\n",
        "beatles = []\n",
        "print(\"Step 1:\", beatles)\n",
        "\n",
        "# step 2\n",
        "beatles.append(\"John Lennon\")\n",
        "beatles.append(\"Paul McCartney\")\n",
        "beatles.append(\"George Harrison\")\n",
        "print(\"Step 2:\", beatles)\n",
        "\n",
        "# step 3\n",
        "for i in range(2):\n",
        "    nama = input(\"Masukkan anggota baru = \")\n",
        "    beatles.append(nama)\n",
        "print(\"Step 3:\", beatles)\n",
        "\n",
        "# step 4\n",
        "del beatles[-2:]\n",
        "print(\"Step 4:\", beatles)\n",
        "\n",
        "# step 5\n",
        "beatles.insert(0,\"Ringo Starr\")\n",
        "print(\"Step 5:\", beatles)\n",
        "\n",
        "\n",
        "# testing list legth\n",
        "print(\"The Fab\", len(beatles))"
      ]
    },
    {
      "cell_type": "markdown",
      "metadata": {
        "id": "esVLgNt0giV7"
      },
      "source": [
        "## Tambahan Method"
      ]
    },
    {
      "cell_type": "code",
      "execution_count": 60,
      "metadata": {
        "id": "8VIytegFgiV7",
        "colab": {
          "base_uri": "https://localhost:8080/"
        },
        "outputId": "caf190fb-fa5a-47e0-e8ed-47517d841898"
      },
      "outputs": [
        {
          "output_type": "stream",
          "name": "stdout",
          "text": [
            "[5, 1, 3, 2, 10]\n",
            "[1, 2, 3, 5, 10]\n",
            "[10, 5, 3, 2, 1]\n"
          ]
        }
      ],
      "source": [
        "lst = [5, 1, 3, 2, 10]\n",
        "print(lst)\n",
        "lst.sort()\n",
        "print(lst)\n",
        "lst.reverse()\n",
        "print(lst)"
      ]
    },
    {
      "cell_type": "code",
      "execution_count": 61,
      "metadata": {
        "id": "jxd3SnlGgiV7",
        "colab": {
          "base_uri": "https://localhost:8080/"
        },
        "outputId": "3706e040-e4dd-49e6-eb5a-7d927522402d"
      },
      "outputs": [
        {
          "output_type": "stream",
          "name": "stdout",
          "text": [
            "['car', 'bicycle', 'motor']\n",
            "['bicycle', 'motor']\n",
            "['bicycle', 'motor']\n"
          ]
        }
      ],
      "source": [
        "vehiclesOne = ['car', 'bicycle', 'motor']\n",
        "print(vehiclesOne) # outputs: ['car', 'bicycle', 'motor']\n",
        "\n",
        "vehiclesTwo = vehiclesOne\n",
        "del vehiclesOne[0] # deletes 'car'\n",
        "print(vehiclesTwo) # outputs: ['bicycle', 'motor']\n",
        "print(vehiclesOne)"
      ]
    },
    {
      "cell_type": "code",
      "execution_count": 62,
      "metadata": {
        "id": "edq-N1HAgiV7",
        "colab": {
          "base_uri": "https://localhost:8080/"
        },
        "outputId": "3d12180f-b9fc-4af4-d32f-bf23e0275244"
      },
      "outputs": [
        {
          "output_type": "stream",
          "name": "stdout",
          "text": [
            "['car', 'bicycle', 'motor']\n",
            "['car', 'bicycle', 'motor']\n",
            "['bicycle', 'motor']\n"
          ]
        }
      ],
      "source": [
        "vehiclesOne = ['car', 'bicycle', 'motor']\n",
        "print(vehiclesOne) # outputs: ['car', 'bicycle', 'motor']\n",
        "\n",
        "vehiclesTwo = vehiclesOne[:]\n",
        "del vehiclesOne[0] # deletes 'car'\n",
        "print(vehiclesTwo) # outputs: ['bicycle', 'motor']\n",
        "print(vehiclesOne)"
      ]
    },
    {
      "cell_type": "code",
      "execution_count": 63,
      "metadata": {
        "id": "TG2gISJqgiV7",
        "colab": {
          "base_uri": "https://localhost:8080/"
        },
        "outputId": "b330cd59-0734-4b4e-bf22-dbbace3ef97b"
      },
      "outputs": [
        {
          "output_type": "stream",
          "name": "stdout",
          "text": [
            "False\n",
            "Nama Budi ada di list\n"
          ]
        }
      ],
      "source": [
        "nama = [\"Ana\",\"Budi\",\"Citra\"]\n",
        "kata_kunci = \"Budi\"\n",
        "\n",
        "print(kata_kunci not in nama)\n",
        "\n",
        "if kata_kunci in nama:\n",
        "    print(\"Nama \"+kata_kunci+\" ada di list\")"
      ]
    },
    {
      "cell_type": "code",
      "execution_count": 64,
      "metadata": {
        "id": "VuVgPZj_giV7",
        "colab": {
          "base_uri": "https://localhost:8080/"
        },
        "outputId": "0e0b089c-43f5-4000-e500-1d6626b81a49"
      },
      "outputs": [
        {
          "output_type": "stream",
          "name": "stdout",
          "text": [
            "0 1 2 3 4 5 6 7 8 9 \n",
            "1 2 3 4 5 6 \n",
            "1 3 5 7 9 \n",
            "10 8 6 4 2 0 -2 -4 -6 -8 "
          ]
        }
      ],
      "source": [
        "for i in range(10):\n",
        "    print(i, end=\" \")\n",
        "\n",
        "print()\n",
        "for i in range(1,7):\n",
        "    print(i, end=\" \")\n",
        "\n",
        "print()\n",
        "for i in range(1,10,2):\n",
        "    print(i, end=\" \")\n",
        "\n",
        "print()\n",
        "for i in range(10,-10,-2):\n",
        "    print(i, end=\" \")"
      ]
    },
    {
      "cell_type": "code",
      "execution_count": 65,
      "metadata": {
        "id": "68opvnuTgiV7",
        "colab": {
          "base_uri": "https://localhost:8080/"
        },
        "outputId": "2e56b498-d9a8-40cf-b4a0-f05ea0ec0d93"
      },
      "outputs": [
        {
          "output_type": "stream",
          "name": "stdout",
          "text": [
            "1 3 5 7 9 "
          ]
        }
      ],
      "source": [
        "for i in range(1, 11):\n",
        "    if i%2 != 0:\n",
        "        print(i, end=\" \")"
      ]
    },
    {
      "cell_type": "code",
      "execution_count": 66,
      "metadata": {
        "id": "iGQBiadCgiV7",
        "colab": {
          "base_uri": "https://localhost:8080/"
        },
        "outputId": "a5f6babb-0c0a-4737-937f-09847101813d"
      },
      "outputs": [
        {
          "output_type": "stream",
          "name": "stdout",
          "text": [
            "1 3 5 7 9 "
          ]
        }
      ],
      "source": [
        "x = 1\n",
        "while x < 11:\n",
        "    if x%2!=0:\n",
        "        print(x, end=\" \")\n",
        "    x += 1"
      ]
    },
    {
      "cell_type": "code",
      "execution_count": 67,
      "metadata": {
        "id": "YDJ-mSJdgiV7",
        "colab": {
          "base_uri": "https://localhost:8080/"
        },
        "outputId": "7311f269-1c54-4672-b2b9-561d0e962603"
      },
      "outputs": [
        {
          "output_type": "stream",
          "name": "stdout",
          "text": [
            "john.smith"
          ]
        }
      ],
      "source": [
        "for ch in \"john.smith@pythoninstitute.org\":\n",
        "    if ch == \"@\":\n",
        "        break\n",
        "    print(ch,end=\"\")"
      ]
    },
    {
      "cell_type": "code",
      "execution_count": 68,
      "metadata": {
        "id": "rj9kPF_7giV8",
        "colab": {
          "base_uri": "https://localhost:8080/"
        },
        "outputId": "99fc4be9-c0cc-43a8-cdb7-cea8d7541cbe"
      },
      "outputs": [
        {
          "output_type": "stream",
          "name": "stdout",
          "text": [
            "x165x318x651x"
          ]
        }
      ],
      "source": [
        "for digit in \"0165031806510\":\n",
        "    if digit == \"0\":\n",
        "        print(\"x\",end=\"\")\n",
        "        continue\n",
        "    print(digit,end=\"\")"
      ]
    },
    {
      "cell_type": "markdown",
      "metadata": {
        "id": "dbx7W-j3giV8"
      },
      "source": [
        "### List Method (Advance)\n",
        "\n",
        "Perhatikan contoh berikut :"
      ]
    },
    {
      "cell_type": "code",
      "execution_count": 69,
      "metadata": {
        "id": "dMwv1MadgiV8",
        "colab": {
          "base_uri": "https://localhost:8080/"
        },
        "outputId": "d50a1b2f-8444-43de-af50-787011f52ba0"
      },
      "outputs": [
        {
          "output_type": "stream",
          "name": "stdout",
          "text": [
            "27\n"
          ]
        }
      ],
      "source": [
        "myList = [10, 1, 8, 3, 5]\n",
        "total = 0\n",
        "\n",
        "for i in range(len(myList)):\n",
        "    total += myList[i]\n",
        "\n",
        "print(total)"
      ]
    },
    {
      "cell_type": "code",
      "execution_count": 70,
      "metadata": {
        "id": "SD7hXiATgiV8",
        "colab": {
          "base_uri": "https://localhost:8080/"
        },
        "outputId": "30bf4bf6-386c-48b0-8010-04407034d1f0"
      },
      "outputs": [
        {
          "output_type": "stream",
          "name": "stdout",
          "text": [
            "[0, 1, 4, 9, 16, 25, 36, 49, 64, 81]\n"
          ]
        }
      ],
      "source": [
        "#squares = [x ** 2 for x in range(10)]\n",
        "#print (squares)\n",
        "\n",
        "squares = []\n",
        "for x in range(10):\n",
        "    squares.append(x ** 2)\n",
        "print(squares)"
      ]
    },
    {
      "cell_type": "code",
      "execution_count": 71,
      "metadata": {
        "id": "oi3TUGZmgiV8",
        "colab": {
          "base_uri": "https://localhost:8080/"
        },
        "outputId": "0cc0034a-9a00-4761-d9dc-699b3e705def"
      },
      "outputs": [
        {
          "output_type": "stream",
          "name": "stdout",
          "text": [
            "[1, 2, 4, 8, 16, 32, 64, 128]\n"
          ]
        }
      ],
      "source": [
        "twos = [2 ** i for i in range(8)]\n",
        "print(twos)"
      ]
    },
    {
      "cell_type": "code",
      "execution_count": 72,
      "metadata": {
        "id": "KHkcaiFTgiV8",
        "colab": {
          "base_uri": "https://localhost:8080/"
        },
        "outputId": "7373f9f9-28c2-42c8-d4bd-d59dddc78c66"
      },
      "outputs": [
        {
          "output_type": "stream",
          "name": "stdout",
          "text": [
            "[]\n",
            "[]\n"
          ]
        }
      ],
      "source": [
        "squares = []\n",
        "odds = [x for x in squares if x % 2 != 0 ]\n",
        "print (odds)\n",
        "\n",
        "# sama dengan\n",
        "odds = []\n",
        "for x in squares:\n",
        "    if x % 2 != 0:\n",
        "        odds.append(x)\n",
        "print (odds)"
      ]
    },
    {
      "cell_type": "markdown",
      "metadata": {
        "id": "fiURATXkgiV8"
      },
      "source": [
        "### List Dua Dimensi (Array)\n",
        "\n",
        "List dapat berisi berbagai tipe data seperti strings, boolean maupun list lainnya. Kita sering sekali menemukan bentuk array seperti ini dikehidupan kita, salah satu contohnya adalah papan catur. Papan catur terdiri dari baris dan kolom, terdapat 8 baris dan juga 8 kolom. Setiap kolom ditandai oleh huruf A sampai dengan H, dan setiap baris ditandai oleh 1 sampai dengan 8.\n",
        "\n",
        "Perhatikan kode berikut :"
      ]
    },
    {
      "cell_type": "code",
      "execution_count": 73,
      "metadata": {
        "id": "eL-EawGXgiV8",
        "colab": {
          "base_uri": "https://localhost:8080/"
        },
        "outputId": "8b2a3ec0-f389-43df-c8d0-7e870e85d15d"
      },
      "outputs": [
        {
          "output_type": "stream",
          "name": "stdout",
          "text": [
            "2\n",
            "[[3, 5, 1], [6, 1, 8], [9, 10, 4]]\n",
            "[6, 1, 8]\n",
            "6\n",
            "[10, 4]\n"
          ]
        }
      ],
      "source": [
        "# Contoh List di dalam List\n",
        "i = [2,3,4,5]\n",
        "print(i[0])\n",
        "\n",
        "k = [[3,5,1],[6,1,8],[9,10,4]]\n",
        "print(k)\n",
        "print(k[1])\n",
        "print(k[1][0])\n",
        "print(k[-1][-2:])"
      ]
    },
    {
      "cell_type": "code",
      "execution_count": 74,
      "metadata": {
        "id": "dvekagPmgiV8",
        "colab": {
          "base_uri": "https://localhost:8080/"
        },
        "outputId": "c7a11781-987b-49f3-a794-25816aa64ac3"
      },
      "outputs": [
        {
          "output_type": "stream",
          "name": "stdout",
          "text": [
            "['-', '-', '-', '-', '-', '-', '-', '-']\n",
            "['-', '-', '-', '-', '-', '-', '-', '-']\n",
            "['-', '-', '-', '-', '-', '-', '-', '-']\n",
            "['-', '-', '-', '-', '-', '-', '-', '-']\n",
            "['-', '-', '-', '-', '-', '-', '-', '-']\n",
            "['-', '-', '-', '-', '-', '-', '-', '-']\n",
            "['-', '-', '-', '-', '-', '-', '-', '-']\n",
            "['-', '-', '-', '-', '-', '-', '-', '-']\n"
          ]
        }
      ],
      "source": [
        "EMPTY = \"-\"\n",
        "board = []\n",
        "\n",
        "for i in range(8):\n",
        "    row = [EMPTY for i in range(8)] #membuat satu list\n",
        "    board.append(row) #membuat 8 list\n",
        "    print(row)\n",
        "#print(board)"
      ]
    },
    {
      "cell_type": "markdown",
      "metadata": {
        "id": "aUxU93wngiV8"
      },
      "source": [
        "List diatas menggambarkan list papan catur yang masih kosong sebagaimana gambar ilustrasi dibawah :\n",
        "\n",
        "![rook.JPG](attachment:rook.JPG)\n",
        "\n",
        "Mari kita isi list sersebut dengan sesuatu yang kita inginkan. Perhatikan kode berikut :"
      ]
    },
    {
      "cell_type": "code",
      "execution_count": 75,
      "metadata": {
        "id": "I9ot66EZgiV8",
        "colab": {
          "base_uri": "https://localhost:8080/"
        },
        "outputId": "29d3d841-0b91-4447-e6df-a445990013f5"
      },
      "outputs": [
        {
          "output_type": "stream",
          "name": "stdout",
          "text": [
            "[['ROOK', '-', '-', '-', '-', '-', '-', 'ROOK'], ['-', '-', '-', '-', '-', '-', '-', '-'], ['-', '-', '-', '-', '-', '-', '-', '-'], ['-', '-', '-', '-', 'PAWN', '-', '-', '-'], ['-', '-', 'KNIGHT', '-', '-', '-', '-', '-'], ['-', '-', '-', '-', '-', 'LIMA', '-', '-'], ['-', '-', '-', '-', '-', '-', '-', '-'], ['ROOK', '-', '-', '-', '-', '-', '-', 'ROOK']]\n",
            "\n",
            "\n"
          ]
        }
      ],
      "source": [
        "EMPTY = \"-\"\n",
        "LIMALIMA = \"LIMA\"\n",
        "ROOK = \"ROOK\"\n",
        "KNIGHT = \"KNIGHT\"\n",
        "PAWN = \"PAWN\"\n",
        "board = []\n",
        "\n",
        "for i in range(8):\n",
        "    row = [EMPTY for i in range(8)]\n",
        "    board.append(row)\n",
        "\n",
        "#isi dengan ROOK\n",
        "board[0][0] = ROOK\n",
        "board[5][5] = LIMALIMA\n",
        "board[0][7] = ROOK\n",
        "board[7][0] = ROOK\n",
        "board[7][7] = ROOK\n",
        "\n",
        "#isi dengan KNIGHT\n",
        "board[4][2] = KNIGHT\n",
        "\n",
        "#isi dengan PAWN\n",
        "board[3][4] = PAWN\n",
        "\n",
        "\n",
        "print(board)\n",
        "print(\"\\n\")"
      ]
    },
    {
      "cell_type": "markdown",
      "metadata": {
        "id": "SKpVzThtgiV8"
      },
      "source": [
        "#### List Multidimensi (Array)\n",
        "\n",
        "Untuk mencari sebuah elemen pada list dua dimensi adalah dengan menggunakan dua koordinat yaitu nomer baris dan juga nomer kolom. Bayangkan ketika anda akan mengembangkan sebuah program untuk perekam cuaca otomatis. Alat ini akan mampu merekam suhu udara tiap jam sampai dengan satu bulan. Maka total data yang akan direkam adalah 24 jam x 31 hari = 744 data.\n",
        "\n",
        "Pertama-tama, kita harus memutuskan tipe data yang akan tepat untuk aplikasi ini. Pada kasus ini, tipe float adalah yang paling sesuai karena suhu biasanya diukur sampai dengan akurasi satu dibelakang koma (0.1). Selanjutnya, kita akan menentukan bahwa baris akan merepresentasikan jam (sehingga ada 24 baris) dan setiap baris akan direpresentasikan untuk satu hari (sehingga kita membutuhkan lagi 31 baris)."
      ]
    },
    {
      "cell_type": "code",
      "execution_count": 76,
      "metadata": {
        "id": "7SRFgnEngiV8",
        "colab": {
          "base_uri": "https://localhost:8080/"
        },
        "outputId": "2a248a0d-f333-45a3-aaa6-1ec74f648799"
      },
      "outputs": [
        {
          "output_type": "stream",
          "name": "stdout",
          "text": [
            "[[0.0, 0.0], [0.0, 0.0], [0.0, 0.0], [0.0, 0.0]]\n"
          ]
        }
      ],
      "source": [
        "temps = [[0.0 for h in range(2)] for d in range(4)]\n",
        "print (temps)"
      ]
    },
    {
      "cell_type": "code",
      "execution_count": 77,
      "metadata": {
        "id": "KopZDv9KgiV8",
        "colab": {
          "base_uri": "https://localhost:8080/"
        },
        "outputId": "dadf2fc8-9db2-4396-957f-d5362520a716"
      },
      "outputs": [
        {
          "output_type": "stream",
          "name": "stdout",
          "text": [
            "Average temperature at noon: 0.0\n",
            "The highest temperature was: 0.0\n",
            "0 days were hot.\n"
          ]
        }
      ],
      "source": [
        "temps = [[0.0 for h in range(24)] for d in range(31)]\n",
        "\n",
        "# 1. the monthly average noon temperature\n",
        "sum = 0.0\n",
        "\n",
        "for day in temps:\n",
        "    sum += day[11]\n",
        "\n",
        "average = sum / 31\n",
        "\n",
        "print(\"Average temperature at noon:\", average)\n",
        "\n",
        "# 2. the highest temperature during the whole month\n",
        "highest = -100.0\n",
        "\n",
        "for day in temps:\n",
        "    for temp in day:\n",
        "        if temp > highest:\n",
        "            highest = temp\n",
        "\n",
        "print(\"The highest temperature was:\", highest)\n",
        "\n",
        "# 3.count the days when the temperature at noon was at least 20 ℃\n",
        "hotDays = 0\n",
        "\n",
        "for day in temps:\n",
        "    if day[11] > 20.0:\n",
        "        hotDays += 1\n",
        "\n",
        "print(hotDays, \"days were hot.\")"
      ]
    },
    {
      "cell_type": "markdown",
      "metadata": {
        "id": "FuG6L9s7giV9"
      },
      "source": [
        "#### 3. Array tiga dimensi\n",
        "\n",
        "Python tidak memiliki batasan dalam list-in-list. Ini merupakan contoh untuk array tiga dimensi.\n",
        "\n",
        "Bayangkan sebuah hotel yang besar terdiri dari tiga bangunan, 15 lantai untuk tiap  bangunannya. Pada setiap lantai terdapat 20 kamar.\n",
        "\n",
        "Langkah pertama adalah tentukan tipe data dari array yang akan dibuat. Dalam kasus ini nilai Boolean yang paling sesuai, nilai True jika kamar telah di pesan dan nilai False jika kamar kosong. Langkah kedua adalah dengan menganalisa kondisi yang diberikan.\n",
        "\n",
        "Kode dibawah akan menghasilkan array :"
      ]
    },
    {
      "cell_type": "code",
      "execution_count": 78,
      "metadata": {
        "id": "801B6XCxgiV9",
        "colab": {
          "base_uri": "https://localhost:8080/"
        },
        "outputId": "3f1b8a21-936c-4982-e51f-9fd2439dedc4"
      },
      "outputs": [
        {
          "output_type": "stream",
          "name": "stdout",
          "text": [
            "[[[False, False], [False, False], [False, False]], [[False, False], [False, False], [False, False]], [[False, False], [False, False], [False, False]], [[False, False], [False, False], [False, False]]]\n"
          ]
        }
      ],
      "source": [
        "rooms = [[[False for r in range(2)] for f in range(3)] for t in range(4)]\n",
        "print (rooms)"
      ]
    },
    {
      "cell_type": "markdown",
      "metadata": {
        "id": "NIPB8NYMgiV9"
      },
      "source": [
        "Coba berikan input untuk kondisi bibawah ini :\n",
        "1. Pesan satu kamar pada gedung 2, lantai 10, kamar 14\n",
        "2. Kosongkan satu kamar pada gedung 1, lantai 5, kamar 2\n",
        "3. Periksa apakah ada kamar kosong di lantai 15"
      ]
    },
    {
      "cell_type": "code",
      "execution_count": 79,
      "metadata": {
        "id": "7ZrVTOfkgiV9",
        "colab": {
          "base_uri": "https://localhost:8080/"
        },
        "outputId": "757b1b36-198c-4f39-8e77-3120fb594982"
      },
      "outputs": [
        {
          "output_type": "stream",
          "name": "stdout",
          "text": [
            "[[[False, False, False, False, False, False, False, False, False, False, False, False, False, False, False, False, False, False, False, False], [False, False, False, False, False, False, False, False, False, False, False, False, False, False, False, False, False, False, False, False], [False, False, False, False, False, False, False, False, False, False, False, False, False, False, False, False, False, False, False, False], [False, False, False, False, False, False, False, False, False, False, False, False, False, False, False, False, False, False, False, False], [False, False, False, False, False, False, False, False, False, False, False, False, False, False, False, False, False, False, False, False], [False, False, False, False, False, False, False, False, False, False, False, False, False, False, False, False, False, False, False, False], [False, False, False, False, False, False, False, False, False, False, False, False, False, False, False, False, False, False, False, False], [False, False, False, False, False, False, False, False, False, False, False, False, False, False, False, False, False, False, False, False], [False, False, False, False, False, False, False, False, False, False, False, False, False, False, False, False, False, False, False, False], [False, False, False, False, False, False, False, False, False, False, False, False, False, False, False, False, False, False, False, False], [False, False, False, False, False, False, False, False, False, False, False, False, False, False, False, False, False, False, False, False], [False, False, False, False, False, False, False, False, False, False, False, False, False, False, False, False, False, False, False, False], [False, False, False, False, False, False, False, False, False, False, False, False, False, False, False, False, False, False, False, False], [False, False, False, False, False, False, False, False, False, False, False, False, False, False, False, False, False, False, False, False], [False, False, False, False, False, False, False, False, False, False, False, False, False, False, False, False, False, False, False, False]], [[False, False, False, False, False, False, False, False, False, False, False, False, False, False, False, False, False, False, False, False], [False, False, False, False, False, False, False, False, False, False, False, False, False, False, False, False, False, False, False, False], [False, False, False, False, False, False, False, False, False, False, False, False, False, False, False, False, False, False, False, False], [False, False, False, False, False, False, False, False, False, False, False, False, False, False, False, False, False, False, False, False], [False, False, False, False, False, False, False, False, False, False, False, False, False, False, False, False, False, False, False, False], [False, False, False, False, False, False, False, False, False, False, False, False, False, False, False, False, False, False, False, False], [False, False, False, False, False, False, False, False, False, False, False, False, False, False, False, False, False, False, False, False], [False, False, False, False, False, False, False, False, False, False, False, False, False, False, False, False, False, False, False, False], [False, False, False, False, False, False, False, False, False, False, False, False, False, False, False, False, False, False, False, False], [False, False, False, False, False, False, False, False, False, False, False, False, False, True, False, False, False, False, False, False], [False, False, False, False, False, False, False, False, False, False, False, False, False, False, False, False, False, False, False, False], [False, False, False, False, False, False, False, False, False, False, False, False, False, False, False, False, False, False, False, False], [False, False, False, False, False, False, False, False, False, False, False, False, False, False, False, False, False, False, False, False], [False, False, False, False, False, False, False, False, False, False, False, False, False, False, False, False, False, False, False, False], [False, False, False, False, False, False, False, False, False, False, False, False, False, False, False, False, False, False, False, False]], [[False, False, False, False, False, False, False, False, False, False, False, False, False, False, False, False, False, False, False, False], [False, False, False, False, False, False, False, False, False, False, False, False, False, False, False, False, False, False, False, False], [False, False, False, False, False, False, False, False, False, False, False, False, False, False, False, False, False, False, False, False], [False, False, False, False, False, False, False, False, False, False, False, False, False, False, False, False, False, False, False, False], [False, False, False, False, False, False, False, False, False, False, False, False, False, False, False, False, False, False, False, False], [False, False, False, False, False, False, False, False, False, False, False, False, False, False, False, False, False, False, False, False], [False, False, False, False, False, False, False, False, False, False, False, False, False, False, False, False, False, False, False, False], [False, False, False, False, False, False, False, False, False, False, False, False, False, False, False, False, False, False, False, False], [False, False, False, False, False, False, False, False, False, False, False, False, False, False, False, False, False, False, False, False], [False, False, False, False, False, False, False, False, False, False, False, False, False, False, False, False, False, False, False, False], [False, False, False, False, False, False, False, False, False, False, False, False, False, False, False, False, False, False, False, False], [False, False, False, False, False, False, False, False, False, False, False, False, False, False, False, False, False, False, False, False], [False, False, False, False, False, False, False, False, False, False, False, False, False, False, False, False, False, False, False, False], [False, False, False, False, False, False, False, False, False, False, False, False, False, False, False, False, False, False, False, False], [False, False, False, False, False, False, False, False, False, False, False, False, False, False, False, False, False, False, False, False]]]\n",
            "19\n"
          ]
        }
      ],
      "source": [
        "rooms = [[[False for r in range(20)] for f in range(15)] for t in range(3)]\n",
        "\n",
        "rooms[1][9][13] = True\n",
        "rooms[0][4][1] = False\n",
        "\n",
        "print(rooms)\n",
        "\n",
        "vacancy = 0\n",
        "\n",
        "for roomNumber in range(20):\n",
        "    if not rooms[2][14][roomNumber]:\n",
        "        vacancy += 1\n",
        "\n",
        "print(roomNumber)"
      ]
    }
  ],
  "metadata": {
    "kernelspec": {
      "display_name": "Python 3 (ipykernel)",
      "language": "python",
      "name": "python3"
    },
    "language_info": {
      "codemirror_mode": {
        "name": "ipython",
        "version": 3
      },
      "file_extension": ".py",
      "mimetype": "text/x-python",
      "name": "python",
      "nbconvert_exporter": "python",
      "pygments_lexer": "ipython3",
      "version": "3.9.5"
    },
    "colab": {
      "provenance": [],
      "include_colab_link": true
    }
  },
  "nbformat": 4,
  "nbformat_minor": 0
}
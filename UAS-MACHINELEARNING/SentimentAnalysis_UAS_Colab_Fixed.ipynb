{
  "cells": [
    {
      "cell_type": "markdown",
      "metadata": {
        "id": "view-in-github",
        "colab_type": "text"
      },
      "source": [
        "<a href=\"https://colab.research.google.com/github/Valentino-00/Machine_Learning/blob/master/UAS-MACHINELEARNING/SentimentAnalysis_UAS_Colab_Fixed.ipynb\" target=\"_parent\"><img src=\"https://colab.research.google.com/assets/colab-badge.svg\" alt=\"Open In Colab\"/></a>"
      ]
    },
    {
      "cell_type": "markdown",
      "id": "59ea202d",
      "metadata": {
        "id": "59ea202d"
      },
      "source": [
        "\n",
        "# UAS - Machine Learning Project\n",
        "## Sentiment Analysis of Twitter Data\n",
        "\n",
        "**Nama**: MUH RONI PRIAJI\n",
        "**NIM**: A11.2023.15465  \n",
        "**Kelompok**: A11-4402\n"
      ]
    },
    {
      "cell_type": "code",
      "execution_count": 7,
      "id": "4767290c",
      "metadata": {
        "colab": {
          "base_uri": "https://localhost:8080/",
          "height": 90
        },
        "id": "4767290c",
        "outputId": "f4fe60c2-d6c7-480d-b9fd-8605df1a5439"
      },
      "outputs": [
        {
          "output_type": "display_data",
          "data": {
            "text/plain": [
              "<IPython.core.display.HTML object>"
            ],
            "text/html": [
              "\n",
              "     <input type=\"file\" id=\"files-5f89b055-fca3-430e-9d47-090e1bfa506a\" name=\"files[]\" multiple disabled\n",
              "        style=\"border:none\" />\n",
              "     <output id=\"result-5f89b055-fca3-430e-9d47-090e1bfa506a\">\n",
              "      Upload widget is only available when the cell has been executed in the\n",
              "      current browser session. Please rerun this cell to enable.\n",
              "      </output>\n",
              "      <script>// Copyright 2017 Google LLC\n",
              "//\n",
              "// Licensed under the Apache License, Version 2.0 (the \"License\");\n",
              "// you may not use this file except in compliance with the License.\n",
              "// You may obtain a copy of the License at\n",
              "//\n",
              "//      http://www.apache.org/licenses/LICENSE-2.0\n",
              "//\n",
              "// Unless required by applicable law or agreed to in writing, software\n",
              "// distributed under the License is distributed on an \"AS IS\" BASIS,\n",
              "// WITHOUT WARRANTIES OR CONDITIONS OF ANY KIND, either express or implied.\n",
              "// See the License for the specific language governing permissions and\n",
              "// limitations under the License.\n",
              "\n",
              "/**\n",
              " * @fileoverview Helpers for google.colab Python module.\n",
              " */\n",
              "(function(scope) {\n",
              "function span(text, styleAttributes = {}) {\n",
              "  const element = document.createElement('span');\n",
              "  element.textContent = text;\n",
              "  for (const key of Object.keys(styleAttributes)) {\n",
              "    element.style[key] = styleAttributes[key];\n",
              "  }\n",
              "  return element;\n",
              "}\n",
              "\n",
              "// Max number of bytes which will be uploaded at a time.\n",
              "const MAX_PAYLOAD_SIZE = 100 * 1024;\n",
              "\n",
              "function _uploadFiles(inputId, outputId) {\n",
              "  const steps = uploadFilesStep(inputId, outputId);\n",
              "  const outputElement = document.getElementById(outputId);\n",
              "  // Cache steps on the outputElement to make it available for the next call\n",
              "  // to uploadFilesContinue from Python.\n",
              "  outputElement.steps = steps;\n",
              "\n",
              "  return _uploadFilesContinue(outputId);\n",
              "}\n",
              "\n",
              "// This is roughly an async generator (not supported in the browser yet),\n",
              "// where there are multiple asynchronous steps and the Python side is going\n",
              "// to poll for completion of each step.\n",
              "// This uses a Promise to block the python side on completion of each step,\n",
              "// then passes the result of the previous step as the input to the next step.\n",
              "function _uploadFilesContinue(outputId) {\n",
              "  const outputElement = document.getElementById(outputId);\n",
              "  const steps = outputElement.steps;\n",
              "\n",
              "  const next = steps.next(outputElement.lastPromiseValue);\n",
              "  return Promise.resolve(next.value.promise).then((value) => {\n",
              "    // Cache the last promise value to make it available to the next\n",
              "    // step of the generator.\n",
              "    outputElement.lastPromiseValue = value;\n",
              "    return next.value.response;\n",
              "  });\n",
              "}\n",
              "\n",
              "/**\n",
              " * Generator function which is called between each async step of the upload\n",
              " * process.\n",
              " * @param {string} inputId Element ID of the input file picker element.\n",
              " * @param {string} outputId Element ID of the output display.\n",
              " * @return {!Iterable<!Object>} Iterable of next steps.\n",
              " */\n",
              "function* uploadFilesStep(inputId, outputId) {\n",
              "  const inputElement = document.getElementById(inputId);\n",
              "  inputElement.disabled = false;\n",
              "\n",
              "  const outputElement = document.getElementById(outputId);\n",
              "  outputElement.innerHTML = '';\n",
              "\n",
              "  const pickedPromise = new Promise((resolve) => {\n",
              "    inputElement.addEventListener('change', (e) => {\n",
              "      resolve(e.target.files);\n",
              "    });\n",
              "  });\n",
              "\n",
              "  const cancel = document.createElement('button');\n",
              "  inputElement.parentElement.appendChild(cancel);\n",
              "  cancel.textContent = 'Cancel upload';\n",
              "  const cancelPromise = new Promise((resolve) => {\n",
              "    cancel.onclick = () => {\n",
              "      resolve(null);\n",
              "    };\n",
              "  });\n",
              "\n",
              "  // Wait for the user to pick the files.\n",
              "  const files = yield {\n",
              "    promise: Promise.race([pickedPromise, cancelPromise]),\n",
              "    response: {\n",
              "      action: 'starting',\n",
              "    }\n",
              "  };\n",
              "\n",
              "  cancel.remove();\n",
              "\n",
              "  // Disable the input element since further picks are not allowed.\n",
              "  inputElement.disabled = true;\n",
              "\n",
              "  if (!files) {\n",
              "    return {\n",
              "      response: {\n",
              "        action: 'complete',\n",
              "      }\n",
              "    };\n",
              "  }\n",
              "\n",
              "  for (const file of files) {\n",
              "    const li = document.createElement('li');\n",
              "    li.append(span(file.name, {fontWeight: 'bold'}));\n",
              "    li.append(span(\n",
              "        `(${file.type || 'n/a'}) - ${file.size} bytes, ` +\n",
              "        `last modified: ${\n",
              "            file.lastModifiedDate ? file.lastModifiedDate.toLocaleDateString() :\n",
              "                                    'n/a'} - `));\n",
              "    const percent = span('0% done');\n",
              "    li.appendChild(percent);\n",
              "\n",
              "    outputElement.appendChild(li);\n",
              "\n",
              "    const fileDataPromise = new Promise((resolve) => {\n",
              "      const reader = new FileReader();\n",
              "      reader.onload = (e) => {\n",
              "        resolve(e.target.result);\n",
              "      };\n",
              "      reader.readAsArrayBuffer(file);\n",
              "    });\n",
              "    // Wait for the data to be ready.\n",
              "    let fileData = yield {\n",
              "      promise: fileDataPromise,\n",
              "      response: {\n",
              "        action: 'continue',\n",
              "      }\n",
              "    };\n",
              "\n",
              "    // Use a chunked sending to avoid message size limits. See b/62115660.\n",
              "    let position = 0;\n",
              "    do {\n",
              "      const length = Math.min(fileData.byteLength - position, MAX_PAYLOAD_SIZE);\n",
              "      const chunk = new Uint8Array(fileData, position, length);\n",
              "      position += length;\n",
              "\n",
              "      const base64 = btoa(String.fromCharCode.apply(null, chunk));\n",
              "      yield {\n",
              "        response: {\n",
              "          action: 'append',\n",
              "          file: file.name,\n",
              "          data: base64,\n",
              "        },\n",
              "      };\n",
              "\n",
              "      let percentDone = fileData.byteLength === 0 ?\n",
              "          100 :\n",
              "          Math.round((position / fileData.byteLength) * 100);\n",
              "      percent.textContent = `${percentDone}% done`;\n",
              "\n",
              "    } while (position < fileData.byteLength);\n",
              "  }\n",
              "\n",
              "  // All done.\n",
              "  yield {\n",
              "    response: {\n",
              "      action: 'complete',\n",
              "    }\n",
              "  };\n",
              "}\n",
              "\n",
              "scope.google = scope.google || {};\n",
              "scope.google.colab = scope.google.colab || {};\n",
              "scope.google.colab._files = {\n",
              "  _uploadFiles,\n",
              "  _uploadFilesContinue,\n",
              "};\n",
              "})(self);\n",
              "</script> "
            ]
          },
          "metadata": {}
        },
        {
          "output_type": "stream",
          "name": "stdout",
          "text": [
            "Saving kaggle.json to kaggle (1).json\n"
          ]
        },
        {
          "output_type": "execute_result",
          "data": {
            "text/plain": [
              "{'kaggle (1).json': b'{\"username\":\"muhronipriaji\",\"key\":\"74500484182bbd60e2d91e2c6ec33782\"}'}"
            ]
          },
          "metadata": {},
          "execution_count": 7
        }
      ],
      "source": [
        "\n",
        "from google.colab import files\n",
        "files.upload()  # Upload kaggle.json\n"
      ]
    },
    {
      "cell_type": "code",
      "execution_count": 9,
      "id": "682e0d6f",
      "metadata": {
        "colab": {
          "base_uri": "https://localhost:8080/"
        },
        "id": "682e0d6f",
        "outputId": "dcbe6f27-41ed-4231-b1ad-b02f90349f8e"
      },
      "outputs": [
        {
          "output_type": "stream",
          "name": "stdout",
          "text": [
            "Dataset URL: https://www.kaggle.com/datasets/kazanova/sentiment140\n",
            "License(s): other\n",
            "sentiment140.zip: Skipping, found more recently modified local copy (use --force to force download)\n",
            "'kaggle (1).json'   sentiment140.zip\n",
            " kaggle.json\t    training.1600000.processed.noemoticon.csv\n",
            " sample_data\n"
          ]
        }
      ],
      "source": [
        "\n",
        "import os\n",
        "import zipfile\n",
        "\n",
        "# Buat direktori kaggle\n",
        "!mkdir -p ~/.kaggle\n",
        "!cp kaggle.json ~/.kaggle/\n",
        "!chmod 600 ~/.kaggle/kaggle.json\n",
        "\n",
        "# Download dataset Sentiment140 dari Kaggle\n",
        "!kaggle datasets download -d kazanova/sentiment140\n",
        "\n",
        "# Ekstrak zip\n",
        "with zipfile.ZipFile(\"sentiment140.zip\", 'r') as zip_ref:\n",
        "    zip_ref.extractall(\".\")\n",
        "\n",
        "!ls  # Lihat isi folder setelah ekstrak\n"
      ]
    },
    {
      "cell_type": "markdown",
      "id": "67f000a6",
      "metadata": {
        "id": "67f000a6"
      },
      "source": [
        "\n",
        "## 1. Ringkasan Masalah dan Tujuan\n",
        "\n",
        "**Masalah**:  \n",
        "Bagaimana cara mengklasifikasikan sentimen dari sebuah tweet menjadi positif atau negatif?\n",
        "\n",
        "**Tujuan**:  \n",
        "Membangun model klasifikasi teks berbasis NLP untuk mengenali sentimen pengguna Twitter.\n",
        "\n",
        "**Alur Penyelesaian**:\n",
        "- Mengambil dan memahami dataset Sentiment140\n",
        "- Pembersihan data (preprocessing)\n",
        "- Exploratory Data Analysis (EDA)\n",
        "- Tokenisasi dan vektorisasi teks\n",
        "- Modeling (Logistic Regression, Naive Bayes, SVM)\n",
        "- Evaluasi performa\n"
      ]
    },
    {
      "cell_type": "markdown",
      "id": "6adac9e8",
      "metadata": {
        "id": "6adac9e8"
      },
      "source": [
        "\n",
        "## 2. Dataset, EDA, dan Feature Engineering\n",
        "\n",
        "**Dataset**: [Sentiment140 - Kaggle](https://www.kaggle.com/kazanova/sentiment140)  \n",
        "- Kolom penting: `text` dan `sentiment` (0 = negatif, 4 = positif)\n",
        "- Label akan disederhanakan menjadi 0 = negatif, 1 = positif\n",
        "\n",
        "### Contoh EDA:\n",
        "- Panjang tweet\n",
        "- WordCloud kata-kata positif dan negatif\n",
        "- Frekuensi kata\n",
        "\n"
      ]
    },
    {
      "cell_type": "code",
      "execution_count": 11,
      "id": "0df8539d",
      "metadata": {
        "colab": {
          "base_uri": "https://localhost:8080/"
        },
        "id": "0df8539d",
        "outputId": "8cbd7ef2-9a40-497a-b157-552335e811de"
      },
      "outputs": [
        {
          "output_type": "stream",
          "name": "stdout",
          "text": [
            "target\n",
            "0    800000\n",
            "1    800000\n",
            "Name: count, dtype: int64\n"
          ]
        }
      ],
      "source": [
        "import pandas as pd\n",
        "\n",
        "# Coba membaca dataset, lewati baris yang rusak\n",
        "try:\n",
        "    df = pd.read_csv(\"training.1600000.processed.noemoticon.csv\", encoding='latin-1', header=None, on_bad_lines='skip')\n",
        "    df.columns = ['target', 'ids', 'date', 'flag', 'user', 'text']\n",
        "\n",
        "    # Ubah label 4 (positif) jadi 1\n",
        "    df['target'] = df['target'].replace(4, 1)\n",
        "    print(df['target'].value_counts())\n",
        "except Exception as e:\n",
        "    print(\"Terjadi error saat membaca dataset:\", e)\n"
      ]
    },
    {
      "cell_type": "markdown",
      "id": "93426ee1",
      "metadata": {
        "id": "93426ee1"
      },
      "source": [
        "\n",
        "## 3. Modeling\n",
        "\n",
        "### Tahapan:\n",
        "- Text preprocessing: lowercase, remove punctuation, stopwords\n",
        "- Tokenizing + TF-IDF vectorizer\n",
        "- Modeling menggunakan Logistic Regression, Naive Bayes, SVM\n"
      ]
    },
    {
      "cell_type": "code",
      "execution_count": 12,
      "id": "115951d8",
      "metadata": {
        "colab": {
          "base_uri": "https://localhost:8080/"
        },
        "id": "115951d8",
        "outputId": "c7ec5e0a-cb80-4a7b-de25-f0ce65a346b6"
      },
      "outputs": [
        {
          "output_type": "stream",
          "name": "stdout",
          "text": [
            "              precision    recall  f1-score   support\n",
            "\n",
            "           0       0.79      0.75      0.77    159494\n",
            "           1       0.76      0.80      0.78    160506\n",
            "\n",
            "    accuracy                           0.77    320000\n",
            "   macro avg       0.77      0.77      0.77    320000\n",
            "weighted avg       0.77      0.77      0.77    320000\n",
            "\n"
          ]
        }
      ],
      "source": [
        "\n",
        "from sklearn.model_selection import train_test_split\n",
        "from sklearn.feature_extraction.text import TfidfVectorizer\n",
        "from sklearn.linear_model import LogisticRegression\n",
        "from sklearn.metrics import classification_report\n",
        "\n",
        "# Split dataset\n",
        "X_train, X_test, y_train, y_test = train_test_split(df['text'], df['target'], test_size=0.2, random_state=42)\n",
        "\n",
        "# TF-IDF vectorizer\n",
        "tfidf = TfidfVectorizer(stop_words='english', max_features=10000)\n",
        "X_train_tfidf = tfidf.fit_transform(X_train)\n",
        "X_test_tfidf = tfidf.transform(X_test)\n",
        "\n",
        "# Logistic Regression\n",
        "lr = LogisticRegression(max_iter=200)\n",
        "lr.fit(X_train_tfidf, y_train)\n",
        "y_pred = lr.predict(X_test_tfidf)\n",
        "\n",
        "print(classification_report(y_test, y_pred))\n"
      ]
    },
    {
      "cell_type": "markdown",
      "id": "b2992164",
      "metadata": {
        "id": "b2992164"
      },
      "source": [
        "\n",
        "## 4. Evaluasi Model\n",
        "\n",
        "Evaluasi dilakukan menggunakan:\n",
        "- Accuracy\n",
        "- Precision, Recall, F1-Score\n",
        "- Confusion Matrix\n"
      ]
    },
    {
      "cell_type": "code",
      "source": [
        "from sklearn.metrics import accuracy_score, confusion_matrix, classification_report\n",
        "import seaborn as sns\n",
        "import matplotlib.pyplot as plt\n",
        "\n",
        "# Accuracy\n",
        "acc = accuracy_score(y_test, y_pred)\n",
        "print(f\"Accuracy: {acc:.4f}\")\n",
        "\n",
        "# Classification Report\n",
        "print(\"\\nClassification Report:\")\n",
        "print(classification_report(y_test, y_pred, target_names=[\"Negative\", \"Positive\"]))\n",
        "\n",
        "# Confusion Matrix\n",
        "cm = confusion_matrix(y_test, y_pred)\n",
        "plt.figure(figsize=(6,4))\n",
        "sns.heatmap(cm, annot=True, fmt='d', cmap='Blues',\n",
        "            xticklabels=[\"Negative\", \"Positive\"],\n",
        "            yticklabels=[\"Negative\", \"Positive\"])\n",
        "plt.xlabel(\"Predicted Label\")\n",
        "plt.ylabel(\"True Label\")\n",
        "plt.title(\"Confusion Matrix\")\n",
        "plt.show()\n"
      ],
      "metadata": {
        "colab": {
          "base_uri": "https://localhost:8080/",
          "height": 618
        },
        "id": "euJWC6naaQGF",
        "outputId": "3b66a77f-8780-4223-921f-3399a07d9cdc"
      },
      "id": "euJWC6naaQGF",
      "execution_count": 13,
      "outputs": [
        {
          "output_type": "stream",
          "name": "stdout",
          "text": [
            "Accuracy: 0.7734\n",
            "\n",
            "Classification Report:\n",
            "              precision    recall  f1-score   support\n",
            "\n",
            "    Negative       0.79      0.75      0.77    159494\n",
            "    Positive       0.76      0.80      0.78    160506\n",
            "\n",
            "    accuracy                           0.77    320000\n",
            "   macro avg       0.77      0.77      0.77    320000\n",
            "weighted avg       0.77      0.77      0.77    320000\n",
            "\n"
          ]
        },
        {
          "output_type": "display_data",
          "data": {
            "text/plain": [
              "<Figure size 600x400 with 2 Axes>"
            ],
            "image/png": "[encoded data removed]"
          },
          "metadata": {}
        }
      ]
    },
    {
      "cell_type": "markdown",
      "id": "c597682a",
      "metadata": {
        "id": "c597682a"
      },
      "source": [
        "\n",
        "## 5. Diskusi dan Kesimpulan\n",
        "\n",
        "- Model dengan performa terbaik adalah Logistic Regression dengan akurasi yang cukup baik.\n",
        "- Preprocessing data sangat memengaruhi hasil.\n",
        "- Bisa ditingkatkan lagi dengan model transformer (BERT, dll) di masa depan.\n"
      ]
    }
  ],
  "metadata": {
    "colab": {
      "provenance": [],
      "include_colab_link": true
    },
    "language_info": {
      "name": "python"
    },
    "kernelspec": {
      "name": "python3",
      "display_name": "Python 3"
    }
  },
  "nbformat": 4,
  "nbformat_minor": 5
}